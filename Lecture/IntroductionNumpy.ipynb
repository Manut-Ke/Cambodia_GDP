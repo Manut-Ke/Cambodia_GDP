{
 "cells": [
  {
   "cell_type": "markdown",
   "metadata": {
    "id": "8U3lZe7c6bEb"
   },
   "source": [
    "## <a id=\"libLib\"> Importing and Using Libraries </a> \n",
    "\n",
    "<p style=\"text-align: right; font-size: 10px;\"><a href=\"#top\">Go to top</a></p>\n",
    "\n",
    "\n",
    "### Packages\n",
    "\n",
    "Python has a large standard library, commonly cited as one of Python's greatest strengths, providing tools suited to many tasks. As of May, 2017, the official repository containing third-party software for Python, contains over 107,000 packages.\n",
    "\n",
    "A *package* is a collection of *modules* i.e. groups of function, classes, constants, types, etc.\n",
    "\n",
    "To use a module, you have to *import* it using the command <tt>import</tt>.\n"
   ]
  },
  {
   "cell_type": "code",
   "execution_count": 1,
   "metadata": {
    "executionInfo": {
     "elapsed": 623,
     "status": "ok",
     "timestamp": 1602507932699,
     "user": {
      "displayName": "Marianne Clausel",
      "photoUrl": "",
      "userId": "17295850017257864432"
     },
     "user_tz": -120
    },
    "id": "8KUwoDUg6bEd"
   },
   "outputs": [],
   "source": [
    "import math"
   ]
  },
  {
   "cell_type": "markdown",
   "metadata": {
    "id": "c9ueYERG6bEj"
   },
   "source": [
    "You can now use it in the code by using the prefix <tt>package_name.</tt>"
   ]
  },
  {
   "cell_type": "code",
   "execution_count": 2,
   "metadata": {
    "colab": {
     "base_uri": "https://localhost:8080/",
     "height": 34
    },
    "executionInfo": {
     "elapsed": 834,
     "status": "ok",
     "timestamp": 1602507935581,
     "user": {
      "displayName": "Marianne Clausel",
      "photoUrl": "",
      "userId": "17295850017257864432"
     },
     "user_tz": -120
    },
    "id": "v7BxSXRx6bEk",
    "outputId": "d55098ec-0264-4af9-dcf0-1af4d4dad0ff"
   },
   "outputs": [
    {
     "name": "stdout",
     "output_type": "stream",
     "text": [
      "1.0\n"
     ]
    }
   ],
   "source": [
    "x = math.cos(2 * math.pi)\n",
    "print(x)"
   ]
  },
  {
   "cell_type": "markdown",
   "metadata": {
    "id": "8znSA1aI6bEq"
   },
   "source": [
    "To explore the function and other content of the library:\n",
    " * Use the web documentation (e.g. for the <tt>math</tt> library <a href=\"https://docs.python.org/3/library/math.html\">Doc for Python 3</a>)\n",
    " * Use the built-in <tt>help</tt>"
   ]
  },
  {
   "cell_type": "code",
   "execution_count": 3,
   "metadata": {
    "id": "yYxlFfii6bEr",
    "outputId": "a424ba65-9c69-4015-c120-84f9ee421773"
   },
   "outputs": [
    {
     "name": "stdout",
     "output_type": "stream",
     "text": [
      "Help on built-in module math:\n",
      "\n",
      "NAME\n",
      "    math\n",
      "\n",
      "DESCRIPTION\n",
      "    This module provides access to the mathematical functions\n",
      "    defined by the C standard.\n",
      "\n",
      "FUNCTIONS\n",
      "    acos(x, /)\n",
      "        Return the arc cosine (measured in radians) of x.\n",
      "\n",
      "        The result is between 0 and pi.\n",
      "\n",
      "    acosh(x, /)\n",
      "        Return the inverse hyperbolic cosine of x.\n",
      "\n",
      "    asin(x, /)\n",
      "        Return the arc sine (measured in radians) of x.\n",
      "\n",
      "        The result is between -pi/2 and pi/2.\n",
      "\n",
      "    asinh(x, /)\n",
      "        Return the inverse hyperbolic sine of x.\n",
      "\n",
      "    atan(x, /)\n",
      "        Return the arc tangent (measured in radians) of x.\n",
      "\n",
      "        The result is between -pi/2 and pi/2.\n",
      "\n",
      "    atan2(y, x, /)\n",
      "        Return the arc tangent (measured in radians) of y/x.\n",
      "\n",
      "        Unlike atan(y/x), the signs of both x and y are considered.\n",
      "\n",
      "    atanh(x, /)\n",
      "        Return the inverse hyperbolic tangent of x.\n",
      "\n",
      "    cbrt(x, /)\n",
      "        Return the cube root of x.\n",
      "\n",
      "    ceil(x, /)\n",
      "        Return the ceiling of x as an Integral.\n",
      "\n",
      "        This is the smallest integer >= x.\n",
      "\n",
      "    comb(n, k, /)\n",
      "        Number of ways to choose k items from n items without repetition and without order.\n",
      "\n",
      "        Evaluates to n! / (k! * (n - k)!) when k <= n and evaluates\n",
      "        to zero when k > n.\n",
      "\n",
      "        Also called the binomial coefficient because it is equivalent\n",
      "        to the coefficient of k-th term in polynomial expansion of the\n",
      "        expression (1 + x)**n.\n",
      "\n",
      "        Raises TypeError if either of the arguments are not integers.\n",
      "        Raises ValueError if either of the arguments are negative.\n",
      "\n",
      "    copysign(x, y, /)\n",
      "        Return a float with the magnitude (absolute value) of x but the sign of y.\n",
      "\n",
      "        On platforms that support signed zeros, copysign(1.0, -0.0)\n",
      "        returns -1.0.\n",
      "\n",
      "    cos(x, /)\n",
      "        Return the cosine of x (measured in radians).\n",
      "\n",
      "    cosh(x, /)\n",
      "        Return the hyperbolic cosine of x.\n",
      "\n",
      "    degrees(x, /)\n",
      "        Convert angle x from radians to degrees.\n",
      "\n",
      "    dist(p, q, /)\n",
      "        Return the Euclidean distance between two points p and q.\n",
      "\n",
      "        The points should be specified as sequences (or iterables) of\n",
      "        coordinates.  Both inputs must have the same dimension.\n",
      "\n",
      "        Roughly equivalent to:\n",
      "            sqrt(sum((px - qx) ** 2.0 for px, qx in zip(p, q)))\n",
      "\n",
      "    erf(x, /)\n",
      "        Error function at x.\n",
      "\n",
      "    erfc(x, /)\n",
      "        Complementary error function at x.\n",
      "\n",
      "    exp(x, /)\n",
      "        Return e raised to the power of x.\n",
      "\n",
      "    exp2(x, /)\n",
      "        Return 2 raised to the power of x.\n",
      "\n",
      "    expm1(x, /)\n",
      "        Return exp(x)-1.\n",
      "\n",
      "        This function avoids the loss of precision involved in the direct evaluation of exp(x)-1 for small x.\n",
      "\n",
      "    fabs(x, /)\n",
      "        Return the absolute value of the float x.\n",
      "\n",
      "    factorial(n, /)\n",
      "        Find n!.\n",
      "\n",
      "        Raise a ValueError if x is negative or non-integral.\n",
      "\n",
      "    floor(x, /)\n",
      "        Return the floor of x as an Integral.\n",
      "\n",
      "        This is the largest integer <= x.\n",
      "\n",
      "    fma(x, y, z, /)\n",
      "        Fused multiply-add operation.\n",
      "\n",
      "        Compute (x * y) + z with a single round.\n",
      "\n",
      "    fmod(x, y, /)\n",
      "        Return fmod(x, y), according to platform C.\n",
      "\n",
      "        x % y may differ.\n",
      "\n",
      "    frexp(x, /)\n",
      "        Return the mantissa and exponent of x, as pair (m, e).\n",
      "\n",
      "        m is a float and e is an int, such that x = m * 2.**e.\n",
      "        If x is 0, m and e are both 0.  Else 0.5 <= abs(m) < 1.0.\n",
      "\n",
      "    fsum(seq, /)\n",
      "        Return an accurate floating-point sum of values in the iterable seq.\n",
      "\n",
      "        Assumes IEEE-754 floating-point arithmetic.\n",
      "\n",
      "    gamma(x, /)\n",
      "        Gamma function at x.\n",
      "\n",
      "    gcd(*integers)\n",
      "        Greatest Common Divisor.\n",
      "\n",
      "    hypot(...)\n",
      "        hypot(*coordinates) -> value\n",
      "\n",
      "        Multidimensional Euclidean distance from the origin to a point.\n",
      "\n",
      "        Roughly equivalent to:\n",
      "            sqrt(sum(x**2 for x in coordinates))\n",
      "\n",
      "        For a two dimensional point (x, y), gives the hypotenuse\n",
      "        using the Pythagorean theorem:  sqrt(x*x + y*y).\n",
      "\n",
      "        For example, the hypotenuse of a 3/4/5 right triangle is:\n",
      "\n",
      "            >>> hypot(3.0, 4.0)\n",
      "            5.0\n",
      "\n",
      "    isclose(a, b, *, rel_tol=1e-09, abs_tol=0.0)\n",
      "        Determine whether two floating-point numbers are close in value.\n",
      "\n",
      "          rel_tol\n",
      "            maximum difference for being considered \"close\", relative to the\n",
      "            magnitude of the input values\n",
      "          abs_tol\n",
      "            maximum difference for being considered \"close\", regardless of the\n",
      "            magnitude of the input values\n",
      "\n",
      "        Return True if a is close in value to b, and False otherwise.\n",
      "\n",
      "        For the values to be considered close, the difference between them\n",
      "        must be smaller than at least one of the tolerances.\n",
      "\n",
      "        -inf, inf and NaN behave similarly to the IEEE 754 Standard.  That\n",
      "        is, NaN is not close to anything, even itself.  inf and -inf are\n",
      "        only close to themselves.\n",
      "\n",
      "    isfinite(x, /)\n",
      "        Return True if x is neither an infinity nor a NaN, and False otherwise.\n",
      "\n",
      "    isinf(x, /)\n",
      "        Return True if x is a positive or negative infinity, and False otherwise.\n",
      "\n",
      "    isnan(x, /)\n",
      "        Return True if x is a NaN (not a number), and False otherwise.\n",
      "\n",
      "    isqrt(n, /)\n",
      "        Return the integer part of the square root of the input.\n",
      "\n",
      "    lcm(*integers)\n",
      "        Least Common Multiple.\n",
      "\n",
      "    ldexp(x, i, /)\n",
      "        Return x * (2**i).\n",
      "\n",
      "        This is essentially the inverse of frexp().\n",
      "\n",
      "    lgamma(x, /)\n",
      "        Natural logarithm of absolute value of Gamma function at x.\n",
      "\n",
      "    log(...)\n",
      "        log(x, [base=math.e])\n",
      "        Return the logarithm of x to the given base.\n",
      "\n",
      "        If the base is not specified, returns the natural logarithm (base e) of x.\n",
      "\n",
      "    log10(x, /)\n",
      "        Return the base 10 logarithm of x.\n",
      "\n",
      "    log1p(x, /)\n",
      "        Return the natural logarithm of 1+x (base e).\n",
      "\n",
      "        The result is computed in a way which is accurate for x near zero.\n",
      "\n",
      "    log2(x, /)\n",
      "        Return the base 2 logarithm of x.\n",
      "\n",
      "    modf(x, /)\n",
      "        Return the fractional and integer parts of x.\n",
      "\n",
      "        Both results carry the sign of x and are floats.\n",
      "\n",
      "    nextafter(x, y, /, *, steps=None)\n",
      "        Return the floating-point value the given number of steps after x towards y.\n",
      "\n",
      "        If steps is not specified or is None, it defaults to 1.\n",
      "\n",
      "        Raises a TypeError, if x or y is not a double, or if steps is not an integer.\n",
      "        Raises ValueError if steps is negative.\n",
      "\n",
      "    perm(n, k=None, /)\n",
      "        Number of ways to choose k items from n items without repetition and with order.\n",
      "\n",
      "        Evaluates to n! / (n - k)! when k <= n and evaluates\n",
      "        to zero when k > n.\n",
      "\n",
      "        If k is not specified or is None, then k defaults to n\n",
      "        and the function returns n!.\n",
      "\n",
      "        Raises TypeError if either of the arguments are not integers.\n",
      "        Raises ValueError if either of the arguments are negative.\n",
      "\n",
      "    pow(x, y, /)\n",
      "        Return x**y (x to the power of y).\n",
      "\n",
      "    prod(iterable, /, *, start=1)\n",
      "        Calculate the product of all the elements in the input iterable.\n",
      "\n",
      "        The default start value for the product is 1.\n",
      "\n",
      "        When the iterable is empty, return the start value.  This function is\n",
      "        intended specifically for use with numeric values and may reject\n",
      "        non-numeric types.\n",
      "\n",
      "    radians(x, /)\n",
      "        Convert angle x from degrees to radians.\n",
      "\n",
      "    remainder(x, y, /)\n",
      "        Difference between x and the closest integer multiple of y.\n",
      "\n",
      "        Return x - n*y where n*y is the closest integer multiple of y.\n",
      "        In the case where x is exactly halfway between two multiples of\n",
      "        y, the nearest even value of n is used. The result is always exact.\n",
      "\n",
      "    sin(x, /)\n",
      "        Return the sine of x (measured in radians).\n",
      "\n",
      "    sinh(x, /)\n",
      "        Return the hyperbolic sine of x.\n",
      "\n",
      "    sqrt(x, /)\n",
      "        Return the square root of x.\n",
      "\n",
      "    sumprod(p, q, /)\n",
      "        Return the sum of products of values from two iterables p and q.\n",
      "\n",
      "        Roughly equivalent to:\n",
      "\n",
      "            sum(itertools.starmap(operator.mul, zip(p, q, strict=True)))\n",
      "\n",
      "        For float and mixed int/float inputs, the intermediate products\n",
      "        and sums are computed with extended precision.\n",
      "\n",
      "    tan(x, /)\n",
      "        Return the tangent of x (measured in radians).\n",
      "\n",
      "    tanh(x, /)\n",
      "        Return the hyperbolic tangent of x.\n",
      "\n",
      "    trunc(x, /)\n",
      "        Truncates the Real x to the nearest Integral toward 0.\n",
      "\n",
      "        Uses the __trunc__ magic method.\n",
      "\n",
      "    ulp(x, /)\n",
      "        Return the value of the least significant bit of the float x.\n",
      "\n",
      "DATA\n",
      "    e = 2.718281828459045\n",
      "    inf = inf\n",
      "    nan = nan\n",
      "    pi = 3.141592653589793\n",
      "    tau = 6.283185307179586\n",
      "\n",
      "FILE\n",
      "    (built-in)\n",
      "\n",
      "\n"
     ]
    }
   ],
   "source": [
    "help(math)"
   ]
  },
  {
   "cell_type": "code",
   "execution_count": 4,
   "metadata": {
    "id": "YGJWFFpH6bEx",
    "outputId": "50b7312d-f325-4fb6-b1b4-04b6a4fe30b7"
   },
   "outputs": [
    {
     "name": "stdout",
     "output_type": "stream",
     "text": [
      "Help on built-in function sqrt in module math:\n",
      "\n",
      "sqrt(x, /)\n",
      "    Return the square root of x.\n",
      "\n"
     ]
    }
   ],
   "source": [
    "help(math.sqrt)"
   ]
  },
  {
   "cell_type": "markdown",
   "metadata": {
    "id": "k4P0L_oH6bE2"
   },
   "source": [
    "Using the prefix <tt>package_name.</tt> can make the code obfuscated as it can get quite verbose (e.g. <tt>scipy.optimize.minimize</tt>) so Python provides simpler ways to import:\n",
    "* <tt>**import** package_name **as** nickname</tt> : the prefix to call is now <tt>nickname.</tt>"
   ]
  },
  {
   "cell_type": "code",
   "execution_count": 3,
   "metadata": {
    "colab": {
     "base_uri": "https://localhost:8080/",
     "height": 34
    },
    "executionInfo": {
     "elapsed": 672,
     "status": "ok",
     "timestamp": 1602508006947,
     "user": {
      "displayName": "Marianne Clausel",
      "photoUrl": "",
      "userId": "17295850017257864432"
     },
     "user_tz": -120
    },
    "id": "YNmbv0lJ6bE4",
    "outputId": "d13ae091-1a50-45c7-ce40-09be61aa6382"
   },
   "outputs": [
    {
     "name": "stdout",
     "output_type": "stream",
     "text": [
      "3.141592653589793\n"
     ]
    }
   ],
   "source": [
    "import math as m\n",
    "\n",
    "print(m.pi)"
   ]
  },
  {
   "cell_type": "markdown",
   "metadata": {
    "id": "pr4mky_A6bE-"
   },
   "source": [
    "* <tt>**from** package_name **import** function1,constant1</tt> : <tt>function1</tt> <tt>constant1</tt> can now be called directly. You can even import all contents with <tt>**from** package_name **import** \\*</tt> but this may be dangerous as names may conflict or override former ones, it is thus not advised except on user-generated modules."
   ]
  },
  {
   "cell_type": "code",
   "execution_count": 4,
   "metadata": {
    "colab": {
     "base_uri": "https://localhost:8080/",
     "height": 34
    },
    "executionInfo": {
     "elapsed": 587,
     "status": "ok",
     "timestamp": 1602508041686,
     "user": {
      "displayName": "Marianne Clausel",
      "photoUrl": "",
      "userId": "17295850017257864432"
     },
     "user_tz": -120
    },
    "id": "DXs6bMP_6bE-",
    "outputId": "05393f60-c686-41ba-b1a9-b47a28f38691"
   },
   "outputs": [
    {
     "name": "stdout",
     "output_type": "stream",
     "text": [
      "4.0\n"
     ]
    }
   ],
   "source": [
    "from math import e,log\n",
    "\n",
    "print(log(e**4))"
   ]
  },
  {
   "cell_type": "markdown",
   "metadata": {
    "id": "LC7pJt0C6bFF"
   },
   "source": [
    "## <a id=\"libNum\"> Numpy and Matplotlib </a> \n",
    "\n",
    "<p style=\"text-align: right; font-size: 10px;\"><a href=\"#top\">Go to top</a></p>\n",
    "\n",
    "\n",
    "**Numpy** is a numerical calculus and algebra package that is widely used, notably providing the *array* (vector/matrix format) type used in almost all numerical projects. <a href=\"https://docs.scipy.org/doc/numpy-dev/reference/\">Documentation</a>\n",
    "\n",
    "\n",
    "**Matplotlib** is a module for generating 2D and 3D graphics. <a href=\"https://matplotlib.org/api/pyplot_summary.html\">Documentation</a>\n",
    "\n",
    "\n",
    "It is common to import them with the respective nicknames **np** and **plt** (for <tt>matplotlib.pyplot</tt>). In Notebooks, it is common to add the *Jupyter magic* command <tt>%matplotlib inline</tt> to display the plots inside the notebook.\n"
   ]
  },
  {
   "cell_type": "code",
   "execution_count": 2,
   "metadata": {
    "executionInfo": {
     "elapsed": 525,
     "status": "ok",
     "timestamp": 1602508181930,
     "user": {
      "displayName": "Marianne Clausel",
      "photoUrl": "",
      "userId": "17295850017257864432"
     },
     "user_tz": -120
    },
    "id": "V-ukqm-m6bFG"
   },
   "outputs": [],
   "source": [
    "import numpy as np\n",
    "import matplotlib.pyplot as plt\n",
    "\n",
    "%matplotlib inline"
   ]
  },
  {
   "cell_type": "markdown",
   "metadata": {
    "id": "sOm3bkQ16bFL"
   },
   "source": [
    "### Numpy *arrays*\n",
    "\n",
    "In Numpy, the type *array* is used for vector, matrices, tensors (a matrix type also exists but is more seldomly used).\n",
    "\n",
    "Numpy arrays can be defined either directly from a list or outputted by a function.\n",
    "\n",
    "\n",
    "#### One-dimensional arrays"
   ]
  },
  {
   "cell_type": "code",
   "execution_count": 9,
   "metadata": {
    "colab": {
     "base_uri": "https://localhost:8080/",
     "height": 34
    },
    "executionInfo": {
     "elapsed": 843,
     "status": "ok",
     "timestamp": 1602508209842,
     "user": {
      "displayName": "Marianne Clausel",
      "photoUrl": "",
      "userId": "17295850017257864432"
     },
     "user_tz": -120
    },
    "id": "yaDKjXp06bFM",
    "outputId": "26d1259b-d190-4b89-823a-ce0b6bb1a6e3"
   },
   "outputs": [
    {
     "name": "stdout",
     "output_type": "stream",
     "text": [
      "[ 1.   2.5  5.  10. ] <class 'numpy.ndarray'>\n"
     ]
    }
   ],
   "source": [
    "x = np.array([1, 2.5, 5, 10])\n",
    "print(x,type(x))"
   ]
  },
  {
   "cell_type": "code",
   "execution_count": 10,
   "metadata": {
    "colab": {
     "base_uri": "https://localhost:8080/",
     "height": 34
    },
    "executionInfo": {
     "elapsed": 1178,
     "status": "ok",
     "timestamp": 1602508213514,
     "user": {
      "displayName": "Marianne Clausel",
      "photoUrl": "",
      "userId": "17295850017257864432"
     },
     "user_tz": -120
    },
    "id": "tE94xB4r6bFR",
    "outputId": "e55dffd7-3b0d-4c69-ce97-dee1cdb7e942"
   },
   "outputs": [
    {
     "name": "stdout",
     "output_type": "stream",
     "text": [
      "[0.95354672 0.62480299 0.12843001 0.45434124] <class 'numpy.ndarray'>\n"
     ]
    }
   ],
   "source": [
    "y = np.random.rand(4)\n",
    "print(y,type(y))"
   ]
  },
  {
   "cell_type": "markdown",
   "metadata": {
    "id": "EkXrwYVL6bFW"
   },
   "source": [
    "#### Plotting\n",
    "\n",
    "Visualizing the data is quite simple with pyplot:\n",
    "* Initialize a figure with <tt>plt.figure()</tt>\n",
    "* Plot something with ... <tt>plt.<a href=\"https://matplotlib.org/api/pyplot_api.html#matplotlib.pyplot.plot\">plot</a></tt>\n",
    "* Fix labels, titles, axes\n",
    "* Eventually save the result\n",
    "* Show the figure with <tt>plt.show()</tt>"
   ]
  },
  {
   "cell_type": "code",
   "execution_count": 13,
   "metadata": {
    "colab": {
     "base_uri": "https://localhost:8080/",
     "height": 295
    },
    "executionInfo": {
     "elapsed": 842,
     "status": "ok",
     "timestamp": 1602508224572,
     "user": {
      "displayName": "Marianne Clausel",
      "photoUrl": "",
      "userId": "17295850017257864432"
     },
     "user_tz": -120
    },
    "id": "XCC9S6_C6bFX",
    "outputId": "91d7064e-98c1-4c57-f53b-92d7886d53a8"
   },
   "outputs": [
    {
     "data": {
      "image/png": "[encoded data removed]",
      "text/plain": [
       "<Figure size 640x480 with 1 Axes>"
      ]
     },
     "metadata": {},
     "output_type": "display_data"
    }
   ],
   "source": [
    "plt.figure()\n",
    "plt.plot(x,y, 'bd--', label='y(x)')\n",
    "plt.legend(loc='lower right')\n",
    "plt.xlabel('x')\n",
    "plt.ylabel('y')\n",
    "plt.title('Sample Figure')\n",
    "plt.xlim([0, 10])\n",
    "plt.ylim([0, 1])\n",
    "plt.savefig('sample.png')\n",
    "plt.show()"
   ]
  },
  {
   "cell_type": "markdown",
   "metadata": {
    "id": "2H6q07PF6bFc"
   },
   "source": [
    "#### Matrices\n",
    "\n",
    "The same process can be used to define matrices."
   ]
  },
  {
   "cell_type": "code",
   "execution_count": 14,
   "metadata": {
    "colab": {
     "base_uri": "https://localhost:8080/",
     "height": 51
    },
    "executionInfo": {
     "elapsed": 651,
     "status": "ok",
     "timestamp": 1602508462163,
     "user": {
      "displayName": "Marianne Clausel",
      "photoUrl": "",
      "userId": "17295850017257864432"
     },
     "user_tz": -120
    },
    "id": "s5CGaCPs6bFd",
    "outputId": "dd762098-eb3a-4ea0-dcb4-9e59c34fee43"
   },
   "outputs": [
    {
     "name": "stdout",
     "output_type": "stream",
     "text": [
      "[[ 0.25  6.2   1.   10.  ]\n",
      " [12.    6.2   6.   -5.3 ]] <class 'numpy.ndarray'>\n"
     ]
    }
   ],
   "source": [
    "M = np.array([[0.25, 6.2, 1, 10],[12, 6.2, 6, -5.3]])\n",
    "print(M,type(M))"
   ]
  },
  {
   "cell_type": "markdown",
   "metadata": {
    "id": "KRhQ9fmk6bFi"
   },
   "source": [
    "<div class=\"warn\">**Warning:** the vector and matrix share the same type so there are some caveats! </div>\n",
    "\n",
    "* The <tt>size</tt> of an array is the number of elements while the <tt>shape</tt> gives how they are arranged."
   ]
  },
  {
   "cell_type": "code",
   "execution_count": 15,
   "metadata": {
    "colab": {
     "base_uri": "https://localhost:8080/",
     "height": 51
    },
    "executionInfo": {
     "elapsed": 1145,
     "status": "ok",
     "timestamp": 1602508472075,
     "user": {
      "displayName": "Marianne Clausel",
      "photoUrl": "",
      "userId": "17295850017257864432"
     },
     "user_tz": -120
    },
    "id": "V4MMM2tO6bFj",
    "outputId": "9bef4f2e-39b5-480d-aff7-de0fc2bdae61"
   },
   "outputs": [
    {
     "name": "stdout",
     "output_type": "stream",
     "text": [
      "4\n",
      "8\n"
     ]
    }
   ],
   "source": [
    "print(x.size)  # or equivalently np.size(x)\n",
    "print(M.size)"
   ]
  },
  {
   "cell_type": "code",
   "execution_count": 21,
   "metadata": {
    "colab": {
     "base_uri": "https://localhost:8080/",
     "height": 51
    },
    "executionInfo": {
     "elapsed": 608,
     "status": "ok",
     "timestamp": 1602508483740,
     "user": {
      "displayName": "Marianne Clausel",
      "photoUrl": "",
      "userId": "17295850017257864432"
     },
     "user_tz": -120
    },
    "id": "1dF-MLio6bFr",
    "outputId": "981c95a9-ab98-4138-9b24-1c3489b98c1d"
   },
   "outputs": [
    {
     "name": "stdout",
     "output_type": "stream",
     "text": [
      "(4,)\n",
      "(2, 4)\n"
     ]
    }
   ],
   "source": [
    "print(x.shape)  # or equivalently np.shape(x)\n",
    "print(M.shape)"
   ]
  },
  {
   "cell_type": "markdown",
   "metadata": {
    "id": "oTaPYtkr6bFv"
   },
   "source": [
    "* The element access, assignment, type, copy is common and similar to the list type."
   ]
  },
  {
   "cell_type": "code",
   "execution_count": null,
   "metadata": {
    "colab": {
     "base_uri": "https://localhost:8080/",
     "height": 85
    },
    "executionInfo": {
     "elapsed": 665,
     "status": "ok",
     "timestamp": 1602508576661,
     "user": {
      "displayName": "Marianne Clausel",
      "photoUrl": "",
      "userId": "17295850017257864432"
     },
     "user_tz": -120
    },
    "id": "nVxfn1Ay6bFw",
    "outputId": "aed6bba7-1b68-4ebb-d176-a493c90ccbc7"
   },
   "outputs": [
    {
     "name": "stdout",
     "output_type": "stream",
     "text": [
      "[ 1.   2.5  5.  10. ]\n",
      "5.0 10.0\n",
      "[10.   5.   2.5  1. ]\n",
      "[ 6.1554  2.5     5.     10.    ]\n"
     ]
    }
   ],
   "source": [
    "print(x)\n",
    "print(x[2],x[-1]) #-1 is the last element\n",
    "print(x[::-1])\n",
    "x[0] = 6.1554 #change number of the element\n",
    "print(x)"
   ]
  },
  {
   "cell_type": "code",
   "execution_count": null,
   "metadata": {
    "colab": {
     "base_uri": "https://localhost:8080/",
     "height": 68
    },
    "executionInfo": {
     "elapsed": 699,
     "status": "ok",
     "timestamp": 1602508431931,
     "user": {
      "displayName": "Marianne Clausel",
      "photoUrl": "",
      "userId": "17295850017257864432"
     },
     "user_tz": -120
    },
    "id": "L4IOB-Hh6bF1",
    "outputId": "62dfb083-4063-4e5f-d1bc-69c1c5840b64"
   },
   "outputs": [
    {
     "name": "stdout",
     "output_type": "stream",
     "text": [
      "[ 6.1554  2.5     5.     10.    ]\n",
      "[ 1.   2.5  5.  10. ]\n",
      "[ 6.1554  2.5     5.     10.    ]\n"
     ]
    }
   ],
   "source": [
    "v = x\n",
    "w = np.copy(x) #copy from above x \n",
    "print(v)\n",
    "x[0]=1\n",
    "print(v)\n",
    "print(w)"
   ]
  },
  {
   "cell_type": "code",
   "execution_count": null,
   "metadata": {
    "colab": {
     "base_uri": "https://localhost:8080/",
     "height": 119
    },
    "executionInfo": {
     "elapsed": 691,
     "status": "ok",
     "timestamp": 1602508431933,
     "user": {
      "displayName": "Marianne Clausel",
      "photoUrl": "",
      "userId": "17295850017257864432"
     },
     "user_tz": -120
    },
    "id": "FeTxX9oH6bF5",
    "outputId": "6cb4b19e-1dfe-410c-d049-b522da0b195c"
   },
   "outputs": [
    {
     "name": "stdout",
     "output_type": "stream",
     "text": [
      "[[ 0.25  6.2   1.   10.  ]\n",
      " [12.    6.2   6.   -5.3 ]]\n",
      "6.0 <class 'numpy.float64'>\n",
      "[12.   6.2  6.  -5.3] <class 'numpy.ndarray'> (4,)\n",
      "[12.   6.2  6.  -5.3]\n",
      "[ 0.25 12.  ]\n"
     ]
    }
   ],
   "source": [
    "print(M)\n",
    "print(M[1,2],type(M[1,2]))\n",
    "print(M[1,:],type(M[1,:]),M[1,:].shape)\n",
    "print(M[1])\n",
    "print(M[:,0])"
   ]
  },
  {
   "cell_type": "markdown",
   "metadata": {
    "id": "zwCDgb0t6bF-"
   },
   "source": [
    "Advanced access to content and modification is possible"
   ]
  },
  {
   "cell_type": "code",
   "execution_count": 18,
   "metadata": {
    "colab": {
     "base_uri": "https://localhost:8080/",
     "height": 34
    },
    "executionInfo": {
     "elapsed": 1101,
     "status": "ok",
     "timestamp": 1602508432352,
     "user": {
      "displayName": "Marianne Clausel",
      "photoUrl": "",
      "userId": "17295850017257864432"
     },
     "user_tz": -120
    },
    "id": "b5ER3ZK76bF_",
    "outputId": "e624f184-948a-491e-9068-a9abe01ea27c"
   },
   "outputs": [
    {
     "name": "stdout",
     "output_type": "stream",
     "text": [
      "[ 1.  5. 10.]\n"
     ]
    }
   ],
   "source": [
    "x = np.array([1, 2.5, 5, 10])\n",
    "ind = [0,2,3]\n",
    "print(x[ind])"
   ]
  },
  {
   "cell_type": "markdown",
   "metadata": {
    "id": "hWHJTI8A6bGE"
   },
   "source": [
    "### Numpy array generation\n",
    "\n",
    "See the corresponding <a href=\"https://docs.scipy.org/doc/numpy-dev/reference/routines.array-creation.html\">documentation</a>."
   ]
  },
  {
   "cell_type": "markdown",
   "metadata": {
    "id": "BV1p-wVz6bGE"
   },
   "source": [
    "#### Number sequences\n",
    "\n",
    "<br/>\n",
    "\n",
    "<tt>**arange**</tt> returns an array of evenly spaced number from <tt>start</tt> to (at most) <tt>stop</tt> with a fixed jump <tt>step</tt> <br/>\n",
    "\n",
    "<tt>**linspace**</tt> returns an array of evenly spaced number from <tt>start</tt> to (exactly) <tt>stop</tt> with a fixed number of points <tt>num</tt>"
   ]
  },
  {
   "cell_type": "code",
   "execution_count": 23,
   "metadata": {
    "colab": {
     "base_uri": "https://localhost:8080/",
     "height": 34
    },
    "executionInfo": {
     "elapsed": 767,
     "status": "ok",
     "timestamp": 1602508778636,
     "user": {
      "displayName": "Marianne Clausel",
      "photoUrl": "",
      "userId": "17295850017257864432"
     },
     "user_tz": -120
    },
    "id": "sF9SLkzI6bGF",
    "outputId": "0c8325dd-398f-497c-a4aa-ea4917821990"
   },
   "outputs": [
    {
     "name": "stdout",
     "output_type": "stream",
     "text": [
      "[0.  1.5 3.  4.5 6.  7.5 9. ] <class 'numpy.ndarray'>\n"
     ]
    }
   ],
   "source": [
    "x = np.arange(0, 10, 1.5)\n",
    "print(x,type(x))"
   ]
  },
  {
   "cell_type": "code",
   "execution_count": 24,
   "metadata": {
    "colab": {
     "base_uri": "https://localhost:8080/",
     "height": 102
    },
    "executionInfo": {
     "elapsed": 673,
     "status": "ok",
     "timestamp": 1602508778638,
     "user": {
      "displayName": "Marianne Clausel",
      "photoUrl": "",
      "userId": "17295850017257864432"
     },
     "user_tz": -120
    },
    "id": "VZSvvMjP6bGJ",
    "outputId": "38c5c7b9-20a6-42d1-a177-971955d09782"
   },
   "outputs": [
    {
     "name": "stdout",
     "output_type": "stream",
     "text": [
      "[ 0.          0.41666667  0.83333333  1.25        1.66666667  2.08333333\n",
      "  2.5         2.91666667  3.33333333  3.75        4.16666667  4.58333333\n",
      "  5.          5.41666667  5.83333333  6.25        6.66666667  7.08333333\n",
      "  7.5         7.91666667  8.33333333  8.75        9.16666667  9.58333333\n",
      " 10.        ] <class 'numpy.ndarray'>\n"
     ]
    }
   ],
   "source": [
    "y = np.linspace(0, 10, 25)\n",
    "print(y,type(y))"
   ]
  },
  {
   "cell_type": "markdown",
   "metadata": {
    "id": "QgDPiNwm6bGO"
   },
   "source": [
    "#### Zeros and Ones\n",
    "\n",
    "<br/>\n",
    "\n",
    "<tt>**zeros**</tt> returns an array (of floats) of zeros  of the precised ** *shape* ** <br/>\n",
    "<tt>**ones**</tt>  returns an array (of floats) of ones  of the precised ** *shape* ** \n",
    "<tt>**eye**</tt>  returns a square 2D-array (of floats) with ones on the diagonal and zeros elsewhere ** *dimension* ** "
   ]
  },
  {
   "cell_type": "code",
   "execution_count": 25,
   "metadata": {
    "colab": {
     "base_uri": "https://localhost:8080/",
     "height": 0
    },
    "executionInfo": {
     "elapsed": 642,
     "status": "ok",
     "timestamp": 1602508778639,
     "user": {
      "displayName": "Marianne Clausel",
      "photoUrl": "",
      "userId": "17295850017257864432"
     },
     "user_tz": -120
    },
    "id": "O_nP-K3Q6bGP",
    "outputId": "4905c061-e098-4ddc-91bb-23ff2165e4b1"
   },
   "outputs": [
    {
     "name": "stdout",
     "output_type": "stream",
     "text": [
      "[0. 0. 0.] (3,) <class 'numpy.ndarray'> float64\n",
      "[0. 0. 0.] (3,) <class 'numpy.ndarray'> float64\n"
     ]
    }
   ],
   "source": [
    "x = np.zeros(3)\n",
    "print(x,x.shape,type(x),x.dtype)\n",
    "\n",
    "x = np.zeros((3,))\n",
    "print(x,x.shape,type(x),x.dtype)"
   ]
  },
  {
   "cell_type": "code",
   "execution_count": 26,
   "metadata": {
    "colab": {
     "base_uri": "https://localhost:8080/",
     "height": 0
    },
    "executionInfo": {
     "elapsed": 628,
     "status": "ok",
     "timestamp": 1602508778640,
     "user": {
      "displayName": "Marianne Clausel",
      "photoUrl": "",
      "userId": "17295850017257864432"
     },
     "user_tz": -120
    },
    "id": "ZyBWVTHC6bGT",
    "outputId": "23501b06-4fb9-4937-b880-0df63caa3540"
   },
   "outputs": [
    {
     "name": "stdout",
     "output_type": "stream",
     "text": [
      "[[0. 0. 0.]\n",
      " [0. 0. 0.]\n",
      " [0. 0. 0.]] (3, 3) <class 'numpy.ndarray'> float64\n"
     ]
    }
   ],
   "source": [
    "x = np.zeros((3,3))\n",
    "print(x,x.shape,type(x),x.dtype)"
   ]
  },
  {
   "cell_type": "code",
   "execution_count": 27,
   "metadata": {
    "colab": {
     "base_uri": "https://localhost:8080/",
     "height": 0
    },
    "executionInfo": {
     "elapsed": 616,
     "status": "ok",
     "timestamp": 1602508778641,
     "user": {
      "displayName": "Marianne Clausel",
      "photoUrl": "",
      "userId": "17295850017257864432"
     },
     "user_tz": -120
    },
    "id": "VNUIBwDo6bGY",
    "outputId": "a3c4f099-d013-490b-8ab0-07376197dc87"
   },
   "outputs": [
    {
     "name": "stdout",
     "output_type": "stream",
     "text": [
      "[[1. 0. 0.]\n",
      " [0. 1. 0.]\n",
      " [0. 0. 1.]] (3, 3) <class 'numpy.ndarray'> float64\n"
     ]
    }
   ],
   "source": [
    "M = np.eye(3)\n",
    "print(M,M.shape,type(M),M.dtype)"
   ]
  },
  {
   "cell_type": "markdown",
   "metadata": {
    "id": "-eexs3Xh6bGd"
   },
   "source": [
    "#### Random data\n",
    "\n",
    "\n",
    "Random arrays can be generated by Numpy's <a href=\"https://docs.scipy.org/doc/numpy-dev/reference/routines.random.html\"><tt>random</tt></a> module.\n",
    "\n",
    "\n",
    "<tt>**rand**</tt> returns an array (of floats) of uniformly distributed numbers in [0,1)  of the precised ** *dimensions* ** <br/>\n",
    "<tt>**randn**</tt>  returns an array (of floats) of numbers from the normal distribution of the precised ** *dimensions* ** <br/>\n",
    "<tt>**randint**</tt>  returns an array (of floats) of integers from the discrete uniform distribution  <br/>"
   ]
  },
  {
   "cell_type": "code",
   "execution_count": 28,
   "metadata": {
    "colab": {
     "base_uri": "https://localhost:8080/",
     "height": 0
    },
    "executionInfo": {
     "elapsed": 599,
     "status": "ok",
     "timestamp": 1602508778641,
     "user": {
      "displayName": "Marianne Clausel",
      "photoUrl": "",
      "userId": "17295850017257864432"
     },
     "user_tz": -120
    },
    "id": "IeHzG9Ey6bGe",
    "outputId": "ddff1ad3-798c-4eb6-8964-936df910c09c"
   },
   "outputs": [
    {
     "data": {
      "text/plain": [
       "array([0.89714036, 0.18436414, 0.35392012, 0.50759716, 0.57870883])"
      ]
     },
     "execution_count": 28,
     "metadata": {
      "tags": []
     },
     "output_type": "execute_result"
    }
   ],
   "source": [
    "np.random.rand(5) "
   ]
  },
  {
   "cell_type": "code",
   "execution_count": 29,
   "metadata": {
    "colab": {
     "base_uri": "https://localhost:8080/",
     "height": 0
    },
    "executionInfo": {
     "elapsed": 587,
     "status": "ok",
     "timestamp": 1602508778642,
     "user": {
      "displayName": "Marianne Clausel",
      "photoUrl": "",
      "userId": "17295850017257864432"
     },
     "user_tz": -120
    },
    "id": "cpq6SNuH6bGj",
    "outputId": "cb0652a3-06ad-456e-e74f-d5c9623572a5"
   },
   "outputs": [
    {
     "data": {
      "text/plain": [
       "array([[-0.18615335, -0.6134938 ],\n",
       "       [ 1.19384548, -0.08974348],\n",
       "       [-0.58632432,  2.11516646],\n",
       "       [ 0.11141353,  0.35359306],\n",
       "       [-0.21949877,  1.88410077]])"
      ]
     },
     "execution_count": 29,
     "metadata": {
      "tags": []
     },
     "output_type": "execute_result"
    }
   ],
   "source": [
    "np.random.randn(5,2)"
   ]
  },
  {
   "cell_type": "code",
   "execution_count": 30,
   "metadata": {
    "colab": {
     "base_uri": "https://localhost:8080/",
     "height": 0
    },
    "executionInfo": {
     "elapsed": 573,
     "status": "ok",
     "timestamp": 1602508778643,
     "user": {
      "displayName": "Marianne Clausel",
      "photoUrl": "",
      "userId": "17295850017257864432"
     },
     "user_tz": -120
    },
    "id": "-ZWew4C86bGn",
    "outputId": "58d9eebd-e14e-4ade-dbef-bb9c660e7c98"
   },
   "outputs": [
    {
     "data": {
      "text/plain": [
       "array([70, 54, 27, 60, 69, 99, 87, 72, 60,  6])"
      ]
     },
     "execution_count": 30,
     "metadata": {
      "tags": []
     },
     "output_type": "execute_result"
    }
   ],
   "source": [
    "np.random.randint(0,100,size=(10,))"
   ]
  },
  {
   "cell_type": "code",
   "execution_count": 31,
   "metadata": {
    "colab": {
     "base_uri": "https://localhost:8080/",
     "height": 0
    },
    "executionInfo": {
     "elapsed": 798,
     "status": "ok",
     "timestamp": 1602508778886,
     "user": {
      "displayName": "Marianne Clausel",
      "photoUrl": "",
      "userId": "17295850017257864432"
     },
     "user_tz": -120
    },
    "id": "v5XEgNq_6bGs",
    "outputId": "0f6cba62-9d1c-40e7-acf8-fcc9d0ba5fe8"
   },
   "outputs": [
    {
     "data": {
      "image/png": "[encoded data removed]",
      "text/plain": [
       "<Figure size 432x288 with 1 Axes>"
      ]
     },
     "metadata": {
      "needs_background": "light",
      "tags": []
     },
     "output_type": "display_data"
    }
   ],
   "source": [
    "a = np.random.randn(10000)\n",
    "plt.figure()\n",
    "plt.hist(a,40) # histogram of a with 40 bins\n",
    "plt.show()"
   ]
  },
  {
   "cell_type": "markdown",
   "metadata": {
    "id": "7Q9_GlY16bGw"
   },
   "source": [
    "## <a id=\"libOp\"> Operations on Matrices and vectors </a> \n",
    "\n",
    "<p style=\"text-align: right; font-size: 10px;\"><a href=\"#top\">Go to top</a></p>\n",
    "\n"
   ]
  },
  {
   "cell_type": "code",
   "execution_count": 8,
   "metadata": {
    "id": "Drom5Dix6bGx",
    "outputId": "89eb9a24-460c-49fa-b626-f1e14c81b79c"
   },
   "outputs": [
    {
     "name": "stdout",
     "output_type": "stream",
     "text": [
      "[0 1 2 3 4]\n"
     ]
    }
   ],
   "source": [
    "v = np.arange(0, 5)\n",
    "print(v)"
   ]
  },
  {
   "cell_type": "code",
   "execution_count": 9,
   "metadata": {
    "id": "3SnuKMWc6bG2",
    "outputId": "c503df00-4e52-4991-f5c3-9e7e15876c73"
   },
   "outputs": [
    {
     "data": {
      "text/plain": [
       "array([0, 2, 4, 6, 8])"
      ]
     },
     "execution_count": 9,
     "metadata": {},
     "output_type": "execute_result"
    }
   ],
   "source": [
    "v * 2"
   ]
  },
  {
   "cell_type": "code",
   "execution_count": 10,
   "metadata": {
    "id": "Tr99NfX06bG6",
    "outputId": "0d0e8861-32d6-4466-80bd-e6280b57d234"
   },
   "outputs": [
    {
     "data": {
      "text/plain": [
       "array([2.5, 3.5, 4.5, 5.5, 6.5])"
      ]
     },
     "execution_count": 10,
     "metadata": {},
     "output_type": "execute_result"
    }
   ],
   "source": [
    "v + 2.5"
   ]
  },
  {
   "cell_type": "code",
   "execution_count": 11,
   "metadata": {
    "id": "Nbg_UPRQ6bG_",
    "outputId": "dafae487-96d8-4a5d-d778-8d97fadd65a1"
   },
   "outputs": [
    {
     "name": "stdout",
     "output_type": "stream",
     "text": [
      "[ 0  1  4  9 16] [0.         1.         1.41421356 1.73205081 2.        ]\n"
     ]
    }
   ],
   "source": [
    "square = v**2\n",
    "root = np.sqrt(v)\n",
    "print(square,root)"
   ]
  },
  {
   "cell_type": "code",
   "execution_count": 48,
   "metadata": {
    "id": "51Iz_VAG6bHD",
    "outputId": "07347750-305b-4d8f-d3cb-7c3301f50beb"
   },
   "outputs": [
    {
     "name": "stderr",
     "output_type": "stream",
     "text": [
      "<>:6: SyntaxWarning: invalid escape sequence '\\s'\n",
      "<>:6: SyntaxWarning: invalid escape sequence '\\s'\n",
      "C:\\Users\\user\\AppData\\Local\\Temp\\ipykernel_18424\\2279005752.py:6: SyntaxWarning: invalid escape sequence '\\s'\n",
      "  plt.plot(root, 'r*-', label='$y = \\sqrt{x}$')\n"
     ]
    },
    {
     "data": {
      "image/png": "[encoded data removed]",
      "text/plain": [
       "<Figure size 640x480 with 2 Axes>"
      ]
     },
     "metadata": {},
     "output_type": "display_data"
    }
   ],
   "source": [
    "plt.figure()\n",
    "plt.subplot(2,2,1) #contain x and y\n",
    "plt.plot(square,'g--', label='$y = x^2$')\n",
    "plt.legend(loc=0)\n",
    "plt.subplot(1,2,2)\n",
    "plt.plot(root, 'r*-', label='$y = \\sqrt{x}$')\n",
    "plt.legend(loc=2)\n",
    "plt.show()"
   ]
  },
  {
   "cell_type": "code",
   "execution_count": 21,
   "metadata": {
    "id": "tw9PLGAD6bHI",
    "outputId": "c417b968-61e1-437b-9cf6-b74c42ebf51d"
   },
   "outputs": [
    {
     "name": "stdout",
     "output_type": "stream",
     "text": [
      "[[ 0  1  2  3  4]\n",
      " [10 11 12 13 14]\n",
      " [20 21 22 23 24]\n",
      " [30 31 32 33 34]]\n"
     ]
    }
   ],
   "source": [
    "A = np.array([[n+m*10 for n in range(5)] for m in range(4)])\n",
    "print(A)"
   ]
  },
  {
   "cell_type": "code",
   "execution_count": null,
   "metadata": {
    "id": "xrWNZKm86bHM",
    "outputId": "792fc5f6-0484-47fb-dfe5-a19349f66cfe"
   },
   "outputs": [
    {
     "data": {
      "text/plain": [
       "array([[ 0,  2,  4,  6,  8],\n",
       "       [20, 22, 24, 26, 28],\n",
       "       [40, 42, 44, 46, 48],\n",
       "       [60, 62, 64, 66, 68]])"
      ]
     },
     "execution_count": 46,
     "metadata": {
      "tags": []
     },
     "output_type": "execute_result"
    }
   ],
   "source": [
    "A*2"
   ]
  },
  {
   "cell_type": "code",
   "execution_count": null,
   "metadata": {
    "id": "dnzPwQgu6bHS",
    "outputId": "ec8a7c6d-3f43-411c-8cab-ef0f3c8d3a00"
   },
   "outputs": [
    {
     "data": {
      "text/plain": [
       "array([[ 2.5,  3.5,  4.5,  5.5,  6.5],\n",
       "       [12.5, 13.5, 14.5, 15.5, 16.5],\n",
       "       [22.5, 23.5, 24.5, 25.5, 26.5],\n",
       "       [32.5, 33.5, 34.5, 35.5, 36.5]])"
      ]
     },
     "execution_count": 47,
     "metadata": {
      "tags": []
     },
     "output_type": "execute_result"
    }
   ],
   "source": [
    "A+2.5"
   ]
  },
  {
   "cell_type": "markdown",
   "metadata": {
    "id": "tCRWlpHf6bHW"
   },
   "source": [
    "Matrices can be visualized as images."
   ]
  },
  {
   "cell_type": "code",
   "execution_count": 28,
   "metadata": {
    "id": "M0mP-EF26bHX",
    "outputId": "e39c1ebe-ddd3-45ee-cdad-e38599433238"
   },
   "outputs": [
    {
     "data": {
      "image/png": "[encoded data removed]",
      "text/plain": [
       "<Figure size 640x480 with 2 Axes>"
      ]
     },
     "metadata": {},
     "output_type": "display_data"
    }
   ],
   "source": [
    "C = np.random.randn(100,100)\n",
    "plt.figure() \n",
    "plt.imshow(C)\n",
    "plt.colorbar()\n",
    "plt.show()"
   ]
  },
  {
   "cell_type": "markdown",
   "metadata": {
    "id": "JVNtjjGN6bHb"
   },
   "source": [
    "### Matrix and vector operations\n",
    "\n",
    "<br/>\n",
    "\n",
    "<div class=\"warn\">**Warning:** Operation symbols <tt>+   -   \\*  /</tt> correspond to *elementwise* operations! To perform, matrix/vector multiplication, dedicated function must be used. </div>\n",
    "\n",
    "#### Elementwise operations"
   ]
  },
  {
   "cell_type": "code",
   "execution_count": null,
   "metadata": {
    "id": "F8TC9nlb6bHb",
    "outputId": "ef069221-891d-4f4f-c10d-73ae29a96c10"
   },
   "outputs": [
    {
     "name": "stdout",
     "output_type": "stream",
     "text": [
      "[[ 0  1  2  3  4]\n",
      " [10 11 12 13 14]\n",
      " [20 21 22 23 24]\n",
      " [30 31 32 33 34]] [-0.91636049  1.13296126  1.79491462  0.9749617   0.19167558]\n"
     ]
    }
   ],
   "source": [
    "A = np.array([[n+m*10 for n in range(5)] for m in range(4)])\n",
    "v = np.random.randn(5)\n",
    "print(A,v)"
   ]
  },
  {
   "cell_type": "code",
   "execution_count": null,
   "metadata": {
    "id": "B7ruwY-56bHf",
    "outputId": "e374db52-103f-41cf-a07f-6e7859556339"
   },
   "outputs": [
    {
     "data": {
      "text/plain": [
       "array([[   0,    1,    4,    9,   16],\n",
       "       [ 100,  121,  144,  169,  196],\n",
       "       [ 400,  441,  484,  529,  576],\n",
       "       [ 900,  961, 1024, 1089, 1156]])"
      ]
     },
     "execution_count": 50,
     "metadata": {
      "tags": []
     },
     "output_type": "execute_result"
    }
   ],
   "source": [
    "A*A"
   ]
  },
  {
   "cell_type": "code",
   "execution_count": null,
   "metadata": {
    "id": "GJDB05oS6bHl",
    "outputId": "89487927-4bc9-4737-81b5-b1259c49120a"
   },
   "outputs": [
    {
     "data": {
      "text/plain": [
       "array([0.83971655, 1.28360122, 3.22171849, 0.95055031, 0.03673953])"
      ]
     },
     "execution_count": 51,
     "metadata": {
      "tags": []
     },
     "output_type": "execute_result"
    }
   ],
   "source": [
    "v*v"
   ]
  },
  {
   "cell_type": "code",
   "execution_count": null,
   "metadata": {
    "id": "qBV4gjSq6bHp",
    "outputId": "7a3ad7b5-9009-48dd-8f9a-bed7f0ebcaf1"
   },
   "outputs": [
    {
     "data": {
      "text/plain": [
       "array([[ -0.        ,   1.13296126,   3.58982924,   2.92488509,\n",
       "          0.7667023 ],\n",
       "       [ -9.16360494,  12.46257388,  21.53897542,  12.67450204,\n",
       "          2.68345805],\n",
       "       [-18.32720988,  23.79218649,  39.4881216 ,  22.42411899,\n",
       "          4.60021381],\n",
       "       [-27.49081481,  35.12179911,  57.43726778,  32.17373594,\n",
       "          6.51696956]])"
      ]
     },
     "execution_count": 52,
     "metadata": {
      "tags": []
     },
     "output_type": "execute_result"
    }
   ],
   "source": [
    "A*v"
   ]
  },
  {
   "cell_type": "markdown",
   "metadata": {
    "id": "kSUyUV986bHt"
   },
   "source": [
    "#### Transposition\n",
    "\n",
    "It can be useful to transpose, it is simply done by suffixing <tt>.T</tt> (or equivalently using the function <tt>np.transpose</tt>). Similarly <tt>.H</tt> is the Hermitian conjugate  <tt>.imag</tt>  <tt>.real</tt> the real and imaginary parts <tt>.abs</tt> the modulus (their *full* versions are respectively <tt>np.conjugate</tt> <tt>np.imag</tt> <tt>np.real</tt> <tt>np.abs</tt>)"
   ]
  },
  {
   "cell_type": "code",
   "execution_count": null,
   "metadata": {
    "id": "KRa5zPCg6bHu",
    "outputId": "d1e05ba4-22e5-45e0-8acb-6c15e0f3867d"
   },
   "outputs": [
    {
     "name": "stdout",
     "output_type": "stream",
     "text": [
      "[[ 0  1  2  3  4]\n",
      " [10 11 12 13 14]\n",
      " [20 21 22 23 24]\n",
      " [30 31 32 33 34]] (4, 5)\n",
      "[[ 0 10 20 30]\n",
      " [ 1 11 21 31]\n",
      " [ 2 12 22 32]\n",
      " [ 3 13 23 33]\n",
      " [ 4 14 24 34]] (5, 4)\n"
     ]
    }
   ],
   "source": [
    "print(A,A.shape)\n",
    "print(A.T,A.T.shape)"
   ]
  },
  {
   "cell_type": "markdown",
   "metadata": {
    "id": "Jjgu6cAv6bHx"
   },
   "source": [
    "#### Matrix/vector operations\n",
    "\n",
    "$y=Av$ can be obtained by <tt>y = A.dot(v)</tt> (or equivalently <tt>y = np.dot(A,v)</tt>). This methods works for array with *compatible shape* (matrix-matrix, matrix-vector, vector-matrix, vector-vector, etc).\n"
   ]
  },
  {
   "cell_type": "code",
   "execution_count": 29,
   "metadata": {
    "id": "Xi55dTiO6bHy",
    "outputId": "bb5a88b8-f725-4a2a-e812-77eedf8df771"
   },
   "outputs": [
    {
     "name": "stdout",
     "output_type": "stream",
     "text": [
      "[[ 0  1  2  3  4]\n",
      " [10 11 12 13 14]\n",
      " [20 21 22 23 24]\n",
      " [30 31 32 33 34]] (4, 5) [0 1 2 3 4] (5,)\n",
      "[ 30 130 230 330] <class 'numpy.ndarray'> (4,)\n"
     ]
    }
   ],
   "source": [
    "y = np.dot(A,v)\n",
    "print(A,A.shape,v,v.shape)\n",
    "print(y,type(y),y.shape)"
   ]
  },
  {
   "cell_type": "markdown",
   "metadata": {
    "id": "4xR1TIIo6bH3"
   },
   "source": [
    "Example of vector-vector multiplication i.e. a scalar product"
   ]
  },
  {
   "cell_type": "code",
   "execution_count": 30,
   "metadata": {
    "id": "QZZXOgC-6bH4",
    "outputId": "59e138ad-2e36-4266-d7f5-7e1762526d82"
   },
   "outputs": [
    {
     "name": "stdout",
     "output_type": "stream",
     "text": [
      "[0 1 2 3 4] 30 <class 'numpy.int64'>\n"
     ]
    }
   ],
   "source": [
    "s = v.dot(v)\n",
    "print(v, s, type(s))"
   ]
  },
  {
   "cell_type": "code",
   "execution_count": 31,
   "metadata": {
    "id": "EJy5eL-F6bH8",
    "outputId": "c2614128-a74b-49a2-de27-8246c522166b"
   },
   "outputs": [
    {
     "name": "stdout",
     "output_type": "stream",
     "text": [
      "[[  30  130  230  330]\n",
      " [ 130  730 1330 1930]\n",
      " [ 230 1330 2430 3530]\n",
      " [ 330 1930 3530 5130]] (4, 4)\n"
     ]
    }
   ],
   "source": [
    "A3 = np.dot(A,A.T)\n",
    "print(A3,A3.shape)"
   ]
  },
  {
   "cell_type": "markdown",
   "metadata": {
    "id": "f3SrgAxH6bIA"
   },
   "source": [
    "From a vector $v$, one can form the matrix $P=v v^T$ by <tt>A=v.outer(v)<tt> (or equivalently <tt>np.outer(v,v)</tt>)"
   ]
  },
  {
   "cell_type": "code",
   "execution_count": null,
   "metadata": {
    "id": "KNcCbxCw6bIA",
    "outputId": "904e5ba4-2ba9-4390-f5ce-be28f4699688"
   },
   "outputs": [
    {
     "name": "stdout",
     "output_type": "stream",
     "text": [
      "[[ 0.83971655 -1.03820094 -1.64478885 -0.89341638 -0.17564392]\n",
      " [-1.03820094  1.28360122  2.03356873  1.10459383  0.217161  ]\n",
      " [-1.64478885  2.03356873  3.22171849  1.749973    0.34404129]\n",
      " [-0.89341638  1.10459383  1.749973    0.95055031  0.18687634]\n",
      " [-0.17564392  0.217161    0.34404129  0.18687634  0.03673953]]\n"
     ]
    }
   ],
   "source": [
    "P = np.outer(v,v)\n",
    "print(P)"
   ]
  },
  {
   "cell_type": "markdown",
   "metadata": {
    "id": "iN-rj6W46bID"
   },
   "source": [
    "### Useful Functions\n",
    "\n",
    "See the Documentation on <a href=\"https://docs.scipy.org/doc/numpy/reference/arrays.ndarray.html\">arrays</a> and <a href=\"https://docs.scipy.org/doc/numpy/reference/routines.array-creation.html\">array creation</a>.\n",
    "\n",
    "<div class=\"warn\">**Warning:** Modificators such as transpose, reshape, etc. do not modify the matrix, if you want to keep the result of the operation, you have to assign a variable to it. The notable exceptions are precised as *in-place* in the documentation.</div>"
   ]
  },
  {
   "cell_type": "code",
   "execution_count": null,
   "metadata": {
    "id": "7_ETLy8P6bIE",
    "outputId": "62747a4a-a7e5-4aed-c727-673ae73cb6de"
   },
   "outputs": [
    {
     "data": {
      "text/plain": [
       "array([[ 0,  1,  2,  3,  4, 10, 11, 12, 13, 14],\n",
       "       [20, 21, 22, 23, 24, 30, 31, 32, 33, 34]])"
      ]
     },
     "execution_count": 60,
     "metadata": {
      "tags": []
     },
     "output_type": "execute_result"
    }
   ],
   "source": [
    "A.reshape((2,10))"
   ]
  },
  {
   "cell_type": "code",
   "execution_count": null,
   "metadata": {
    "id": "juim5Ozi6bIJ",
    "outputId": "f6aebd1b-7793-4caa-99fc-0e8a33786a50"
   },
   "outputs": [
    {
     "name": "stdout",
     "output_type": "stream",
     "text": [
      "[[ 0  1  2  3  4]\n",
      " [10 11 12 13 14]\n",
      " [20 21 22 23 24]\n",
      " [30 31 32 33 34]]\n"
     ]
    }
   ],
   "source": [
    "print(A)"
   ]
  },
  {
   "cell_type": "code",
   "execution_count": null,
   "metadata": {
    "id": "kFg_Nu-s6bIM",
    "outputId": "10de6446-970c-4471-a87d-aa2ae9102239"
   },
   "outputs": [
    {
     "name": "stdout",
     "output_type": "stream",
     "text": [
      "[ 0  1  2  3  4 10 11 12 13 14 20 21 22 23 24 30 31 32 33 34]\n"
     ]
    }
   ],
   "source": [
    "B = A.flatten()\n",
    "print(B)"
   ]
  },
  {
   "cell_type": "code",
   "execution_count": null,
   "metadata": {
    "id": "LAaBF7Ij6bIP",
    "outputId": "865ad8ae-eb1a-4ece-84ee-3102d3c148ab"
   },
   "outputs": [
    {
     "name": "stdout",
     "output_type": "stream",
     "text": [
      "66 34 19\n"
     ]
    }
   ],
   "source": [
    "print(A.trace(),A.max(),A.argmax())"
   ]
  },
  {
   "cell_type": "markdown",
   "metadata": {
    "id": "Q6ZEyF666bIV"
   },
   "source": [
    "Some functions may be taken with respects to the columns with <tt>axis=0</tt> or lines with <tt>axis=1</tt>."
   ]
  },
  {
   "cell_type": "code",
   "execution_count": null,
   "metadata": {
    "id": "1ND79_HL6bIW",
    "outputId": "8dc22636-47de-4fdf-d31a-f0b3ac2574d2"
   },
   "outputs": [
    {
     "name": "stdout",
     "output_type": "stream",
     "text": [
      "17.0 [15. 16. 17. 18. 19.] [ 2. 12. 22. 32.]\n"
     ]
    }
   ],
   "source": [
    "print(A.mean(),A.mean(axis=0),A.mean(axis=1)) #axis=0 column axis=1 = row"
   ]
  },
  {
   "cell_type": "code",
   "execution_count": null,
   "metadata": {
    "id": "cMQT7ZZI6bIa",
    "outputId": "344e708d-869c-4173-a56b-f0bcda8dc60b"
   },
   "outputs": [
    {
     "name": "stdout",
     "output_type": "stream",
     "text": [
      "127.0 [125. 125. 125. 125. 125.] [1.41421356 1.41421356 1.41421356 1.41421356]\n"
     ]
    }
   ],
   "source": [
    "print(A.var(),A.var(axis=0),A.std(axis=1))"
   ]
  },
  {
   "cell_type": "markdown",
   "metadata": {
    "id": "iiWkcH0a6bId"
   },
   "source": [
    "#### Repetition, tiling, concatenation"
   ]
  },
  {
   "cell_type": "code",
   "execution_count": 34,
   "metadata": {
    "id": "HNGMVQXU6bIe",
    "outputId": "6e350367-8e57-4857-ec18-7a320a973aa7"
   },
   "outputs": [
    {
     "data": {
      "text/plain": [
       "array([[1, 2],\n",
       "       [3, 4]])"
      ]
     },
     "execution_count": 34,
     "metadata": {},
     "output_type": "execute_result"
    }
   ],
   "source": [
    "a = np.array([[1, 2], [3, 4]])\n",
    "a"
   ]
  },
  {
   "cell_type": "code",
   "execution_count": null,
   "metadata": {
    "id": "4bjHwo9W6bIi",
    "outputId": "b5c3f102-62ff-4231-f191-87239dfdb9a4"
   },
   "outputs": [
    {
     "data": {
      "text/plain": [
       "array([1, 1, 1, 2, 2, 2, 3, 3, 3, 4, 4, 4])"
      ]
     },
     "execution_count": 67,
     "metadata": {
      "tags": []
     },
     "output_type": "execute_result"
    }
   ],
   "source": [
    "# repeat each element 3 times\n",
    "np.repeat(a, 3) #  1-d result"
   ]
  },
  {
   "cell_type": "code",
   "execution_count": null,
   "metadata": {
    "id": "AmeyQSCh6bIo",
    "outputId": "9ac45a3c-44d9-487c-9846-9855cb63670d"
   },
   "outputs": [
    {
     "data": {
      "text/plain": [
       "array([[1, 2, 1, 2, 1, 2],\n",
       "       [3, 4, 3, 4, 3, 4]])"
      ]
     },
     "execution_count": 68,
     "metadata": {
      "tags": []
     },
     "output_type": "execute_result"
    }
   ],
   "source": [
    "# repeat *the matrix* 3 times\n",
    "np.tile(a, 3)"
   ]
  },
  {
   "cell_type": "code",
   "execution_count": 36,
   "metadata": {
    "id": "Y_SLGqFy6bIr"
   },
   "outputs": [],
   "source": [
    "b = np.array([[5, 6]])"
   ]
  },
  {
   "cell_type": "code",
   "execution_count": 38,
   "metadata": {
    "id": "5KBDlJGu6bIu",
    "outputId": "3667e543-553a-47a9-ccfa-396c3fd0a19b"
   },
   "outputs": [
    {
     "data": {
      "text/plain": [
       "array([[1, 2],\n",
       "       [3, 4],\n",
       "       [5, 6]])"
      ]
     },
     "execution_count": 38,
     "metadata": {},
     "output_type": "execute_result"
    }
   ],
   "source": [
    "np.concatenate((a, b), axis=0) #add"
   ]
  },
  {
   "cell_type": "code",
   "execution_count": null,
   "metadata": {
    "id": "SqO4k3Xp6bIz",
    "outputId": "bf7937ef-e488-41c6-f143-aeae4d8b90cb"
   },
   "outputs": [
    {
     "data": {
      "text/plain": [
       "array([[1, 2, 5],\n",
       "       [3, 4, 6]])"
      ]
     },
     "execution_count": 71,
     "metadata": {
      "tags": []
     },
     "output_type": "execute_result"
    }
   ],
   "source": [
    "np.concatenate((a, b.T), axis=1)"
   ]
  },
  {
   "cell_type": "code",
   "execution_count": null,
   "metadata": {
    "id": "sS3CM4GX6bI2",
    "outputId": "177eb945-3298-4f30-ac9e-037daa8276c5"
   },
   "outputs": [
    {
     "data": {
      "text/plain": [
       "array([[1, 2],\n",
       "       [3, 4],\n",
       "       [5, 6]])"
      ]
     },
     "execution_count": 72,
     "metadata": {
      "tags": []
     },
     "output_type": "execute_result"
    }
   ],
   "source": [
    "np.vstack((a,b))"
   ]
  },
  {
   "cell_type": "code",
   "execution_count": null,
   "metadata": {
    "id": "jRtgXEx36bI6",
    "outputId": "9147788b-507f-44b8-88eb-c20f71352b88"
   },
   "outputs": [
    {
     "data": {
      "text/plain": [
       "array([[1, 2, 5],\n",
       "       [3, 4, 6]])"
      ]
     },
     "execution_count": 73,
     "metadata": {
      "tags": []
     },
     "output_type": "execute_result"
    }
   ],
   "source": [
    "np.hstack((a,b.T))"
   ]
  },
  {
   "cell_type": "markdown",
   "metadata": {
    "id": "RftLcEEv6bI-"
   },
   "source": [
    "### Iterating on arrays"
   ]
  },
  {
   "cell_type": "code",
   "execution_count": null,
   "metadata": {
    "id": "bkTfhMwb6bJB",
    "outputId": "faed2561-a8db-4607-9154-b0ccf532b7b0"
   },
   "outputs": [
    {
     "name": "stdout",
     "output_type": "stream",
     "text": [
      "1\n",
      "2\n",
      "3\n",
      "4\n"
     ]
    }
   ],
   "source": [
    "v = np.array([1,2,3,4])\n",
    "\n",
    "for element in v:\n",
    "    print(element)"
   ]
  },
  {
   "cell_type": "code",
   "execution_count": 41,
   "metadata": {
    "id": "rxumqPRf6bJE",
    "outputId": "cc4ec3f3-b02b-46b5-bf7f-d48d0eff9d2a"
   },
   "outputs": [
    {
     "name": "stdout",
     "output_type": "stream",
     "text": [
      "row [1 2]\n",
      "1\n",
      "2\n",
      "row [3 4]\n",
      "3\n",
      "4\n"
     ]
    }
   ],
   "source": [
    "a = np.array([[1,2], [3,4]])\n",
    "\n",
    "for row in a:\n",
    "    print(\"row\", row)\n",
    "    \n",
    "    for element in row:\n",
    "        print(element)"
   ]
  },
  {
   "cell_type": "markdown",
   "metadata": {
    "id": "uFChLNd76bJI"
   },
   "source": [
    "<tt>enumerate</tt> can be used to get indexes along with elements."
   ]
  },
  {
   "cell_type": "code",
   "execution_count": null,
   "metadata": {
    "id": "M5ltp_Bj6bJI",
    "outputId": "5af2bb62-e924-421d-f91a-cbf90d508095"
   },
   "outputs": [
    {
     "name": "stdout",
     "output_type": "stream",
     "text": [
      "row_idx 0 row [1 2]\n",
      "col_idx 0 element 1\n",
      "col_idx 1 element 2\n",
      "row_idx 1 row [3 4]\n",
      "col_idx 0 element 3\n",
      "col_idx 1 element 4\n"
     ]
    }
   ],
   "source": [
    "for row_idx, row in enumerate(a):\n",
    "    print(\"row_idx\", row_idx, \"row\", row)\n",
    "    \n",
    "    for col_idx, element in enumerate(row):\n",
    "        print(\"col_idx\", col_idx, \"element\", element)\n",
    "       \n",
    "        # update the matrix a: square each element\n",
    "        a[row_idx, col_idx] = element ** 2"
   ]
  },
  {
   "cell_type": "code",
   "execution_count": null,
   "metadata": {},
   "outputs": [],
   "source": []
  },
  {
   "cell_type": "code",
   "execution_count": null,
   "metadata": {
    "id": "3uquoiuf6bJL",
    "outputId": "5d8ac601-10b0-4ec9-b93a-b0619d50ab8b",
    "scrolled": true
   },
   "outputs": [
    {
     "data": {
      "text/plain": [
       "array([[ 1,  4],\n",
       "       [ 9, 16]])"
      ]
     },
     "execution_count": 77,
     "metadata": {
      "tags": []
     },
     "output_type": "execute_result"
    }
   ],
   "source": [
    "a"
   ]
  },
  {
   "cell_type": "markdown",
   "metadata": {},
   "source": [
    "# Credit to my teacher \"Marianne Clauzel, PR Mathematics at IDMC(University of Lorraine), for these examples."
   ]
  },
  {
   "cell_type": "code",
   "execution_count": null,
   "metadata": {},
   "outputs": [],
   "source": []
  }
 ],
 "metadata": {
  "colab": {
   "name": "IntroductionNumpy.ipynb",
   "provenance": []
  },
  "kernelspec": {
   "display_name": "Python 3",
   "language": "python",
   "name": "python3"
  },
  "language_info": {
   "codemirror_mode": {
    "name": "ipython",
    "version": 3
   },
   "file_extension": ".py",
   "mimetype": "text/x-python",
   "name": "python",
   "nbconvert_exporter": "python",
   "pygments_lexer": "ipython3",
   "version": "3.13.0"
  },
  "varInspector": {
   "cols": {
    "lenName": 16,
    "lenType": 16,
    "lenVar": 40
   },
   "kernels_config": {
    "python": {
     "delete_cmd_postfix": "",
     "delete_cmd_prefix": "del ",
     "library": "var_list.py",
     "varRefreshCmd": "print(var_dic_list())"
    },
    "r": {
     "delete_cmd_postfix": ") ",
     "delete_cmd_prefix": "rm(",
     "library": "var_list.r",
     "varRefreshCmd": "cat(var_dic_list()) "
    }
   },
   "types_to_exclude": [
    "module",
    "function",
    "builtin_function_or_method",
    "instance",
    "_Feature"
   ],
   "window_display": false
  }
 },
 "nbformat": 4,
 "nbformat_minor": 1
}
