{
 "cells": [
  {
   "cell_type": "markdown",
   "metadata": {},
   "source": [
    "    1/Import libraries "
   ]
  },
  {
   "cell_type": "code",
   "execution_count": 12,
   "metadata": {},
   "outputs": [],
   "source": [
    "import numpy as np\n",
    "import pandas as pd\n",
    "import matplotlib.pyplot as plt\n",
    "import seaborn as sns\n",
    "from scipy.optimize import curve_fit\n",
    "from sklearn.model_selection import train_test_split\n",
    "from sklearn.linear_model import LinearRegression\n",
    "from sklearn.preprocessing import StandardScaler\n",
    "from sklearn.metrics import mean_absolute_error, mean_squared_error, r2_score\n",
    "from sklearn.preprocessing import MinMaxScaler\n"
   ]
  },
  {
   "cell_type": "markdown",
   "metadata": {},
   "source": [
    "    2/Load Data"
   ]
  },
  {
   "cell_type": "code",
   "execution_count": 21,
   "metadata": {},
   "outputs": [
    {
     "data": {
      "text/html": [
       "<div>\n",
       "<style scoped>\n",
       "    .dataframe tbody tr th:only-of-type {\n",
       "        vertical-align: middle;\n",
       "    }\n",
       "\n",
       "    .dataframe tbody tr th {\n",
       "        vertical-align: top;\n",
       "    }\n",
       "\n",
       "    .dataframe thead th {\n",
       "        text-align: right;\n",
       "    }\n",
       "</style>\n",
       "<table border=\"1\" class=\"dataframe\">\n",
       "  <thead>\n",
       "    <tr style=\"text-align: right;\">\n",
       "      <th></th>\n",
       "      <th>Year</th>\n",
       "      <th>GDP(Million)</th>\n",
       "    </tr>\n",
       "  </thead>\n",
       "  <tbody>\n",
       "    <tr>\n",
       "      <th>0</th>\n",
       "      <td>1975</td>\n",
       "      <td>749.129000</td>\n",
       "    </tr>\n",
       "    <tr>\n",
       "      <th>1</th>\n",
       "      <td>1976</td>\n",
       "      <td>790.357000</td>\n",
       "    </tr>\n",
       "    <tr>\n",
       "      <th>2</th>\n",
       "      <td>1977</td>\n",
       "      <td>716.261765</td>\n",
       "    </tr>\n",
       "    <tr>\n",
       "      <th>3</th>\n",
       "      <td>1978</td>\n",
       "      <td>766.642356</td>\n",
       "    </tr>\n",
       "    <tr>\n",
       "      <th>4</th>\n",
       "      <td>1979</td>\n",
       "      <td>723.738503</td>\n",
       "    </tr>\n",
       "    <tr>\n",
       "      <th>5</th>\n",
       "      <td>1980</td>\n",
       "      <td>744.384130</td>\n",
       "    </tr>\n",
       "    <tr>\n",
       "      <th>6</th>\n",
       "      <td>1981</td>\n",
       "      <td>815.153652</td>\n",
       "    </tr>\n",
       "    <tr>\n",
       "      <th>7</th>\n",
       "      <td>1982</td>\n",
       "      <td>865.516040</td>\n",
       "    </tr>\n",
       "    <tr>\n",
       "      <th>8</th>\n",
       "      <td>1983</td>\n",
       "      <td>939.291262</td>\n",
       "    </tr>\n",
       "    <tr>\n",
       "      <th>9</th>\n",
       "      <td>1984</td>\n",
       "      <td>1020.000000</td>\n",
       "    </tr>\n",
       "    <tr>\n",
       "      <th>10</th>\n",
       "      <td>1985</td>\n",
       "      <td>1100.000000</td>\n",
       "    </tr>\n",
       "    <tr>\n",
       "      <th>11</th>\n",
       "      <td>1986</td>\n",
       "      <td>1170.000000</td>\n",
       "    </tr>\n",
       "    <tr>\n",
       "      <th>12</th>\n",
       "      <td>1987</td>\n",
       "      <td>1040.000000</td>\n",
       "    </tr>\n",
       "    <tr>\n",
       "      <th>13</th>\n",
       "      <td>1988</td>\n",
       "      <td>1660.000000</td>\n",
       "    </tr>\n",
       "    <tr>\n",
       "      <th>14</th>\n",
       "      <td>1989</td>\n",
       "      <td>1350.000000</td>\n",
       "    </tr>\n",
       "    <tr>\n",
       "      <th>15</th>\n",
       "      <td>1990</td>\n",
       "      <td>1400.000000</td>\n",
       "    </tr>\n",
       "    <tr>\n",
       "      <th>16</th>\n",
       "      <td>1991</td>\n",
       "      <td>2050.000000</td>\n",
       "    </tr>\n",
       "    <tr>\n",
       "      <th>17</th>\n",
       "      <td>1992</td>\n",
       "      <td>2490.000000</td>\n",
       "    </tr>\n",
       "    <tr>\n",
       "      <th>18</th>\n",
       "      <td>1993</td>\n",
       "      <td>2530.000000</td>\n",
       "    </tr>\n",
       "    <tr>\n",
       "      <th>19</th>\n",
       "      <td>1994</td>\n",
       "      <td>2790.000000</td>\n",
       "    </tr>\n",
       "    <tr>\n",
       "      <th>20</th>\n",
       "      <td>1995</td>\n",
       "      <td>3440.000000</td>\n",
       "    </tr>\n",
       "    <tr>\n",
       "      <th>21</th>\n",
       "      <td>1996</td>\n",
       "      <td>3510.000000</td>\n",
       "    </tr>\n",
       "    <tr>\n",
       "      <th>22</th>\n",
       "      <td>1997</td>\n",
       "      <td>3440.000000</td>\n",
       "    </tr>\n",
       "    <tr>\n",
       "      <th>23</th>\n",
       "      <td>1998</td>\n",
       "      <td>3120.000000</td>\n",
       "    </tr>\n",
       "    <tr>\n",
       "      <th>24</th>\n",
       "      <td>1999</td>\n",
       "      <td>3520.000000</td>\n",
       "    </tr>\n",
       "    <tr>\n",
       "      <th>25</th>\n",
       "      <td>2000</td>\n",
       "      <td>3650.000000</td>\n",
       "    </tr>\n",
       "    <tr>\n",
       "      <th>26</th>\n",
       "      <td>2001</td>\n",
       "      <td>3980.000000</td>\n",
       "    </tr>\n",
       "    <tr>\n",
       "      <th>27</th>\n",
       "      <td>2002</td>\n",
       "      <td>4280.000000</td>\n",
       "    </tr>\n",
       "    <tr>\n",
       "      <th>28</th>\n",
       "      <td>2003</td>\n",
       "      <td>4660.000000</td>\n",
       "    </tr>\n",
       "    <tr>\n",
       "      <th>29</th>\n",
       "      <td>2004</td>\n",
       "      <td>5340.000000</td>\n",
       "    </tr>\n",
       "    <tr>\n",
       "      <th>30</th>\n",
       "      <td>2005</td>\n",
       "      <td>6290.000000</td>\n",
       "    </tr>\n",
       "    <tr>\n",
       "      <th>31</th>\n",
       "      <td>2006</td>\n",
       "      <td>7270.000000</td>\n",
       "    </tr>\n",
       "    <tr>\n",
       "      <th>32</th>\n",
       "      <td>2007</td>\n",
       "      <td>8640.000000</td>\n",
       "    </tr>\n",
       "    <tr>\n",
       "      <th>33</th>\n",
       "      <td>2008</td>\n",
       "      <td>10350.000000</td>\n",
       "    </tr>\n",
       "    <tr>\n",
       "      <th>34</th>\n",
       "      <td>2009</td>\n",
       "      <td>10400.000000</td>\n",
       "    </tr>\n",
       "    <tr>\n",
       "      <th>35</th>\n",
       "      <td>2010</td>\n",
       "      <td>11240.000000</td>\n",
       "    </tr>\n",
       "    <tr>\n",
       "      <th>36</th>\n",
       "      <td>2011</td>\n",
       "      <td>12830.000000</td>\n",
       "    </tr>\n",
       "    <tr>\n",
       "      <th>37</th>\n",
       "      <td>2012</td>\n",
       "      <td>14050.000000</td>\n",
       "    </tr>\n",
       "    <tr>\n",
       "      <th>38</th>\n",
       "      <td>2013</td>\n",
       "      <td>15230.000000</td>\n",
       "    </tr>\n",
       "    <tr>\n",
       "      <th>39</th>\n",
       "      <td>2014</td>\n",
       "      <td>16700.000000</td>\n",
       "    </tr>\n",
       "    <tr>\n",
       "      <th>40</th>\n",
       "      <td>2015</td>\n",
       "      <td>18050.000000</td>\n",
       "    </tr>\n",
       "    <tr>\n",
       "      <th>41</th>\n",
       "      <td>2016</td>\n",
       "      <td>20020.000000</td>\n",
       "    </tr>\n",
       "    <tr>\n",
       "      <th>42</th>\n",
       "      <td>2017</td>\n",
       "      <td>22180.000000</td>\n",
       "    </tr>\n",
       "    <tr>\n",
       "      <th>43</th>\n",
       "      <td>2018</td>\n",
       "      <td>24570.000000</td>\n",
       "    </tr>\n",
       "    <tr>\n",
       "      <th>44</th>\n",
       "      <td>2019</td>\n",
       "      <td>27090.000000</td>\n",
       "    </tr>\n",
       "    <tr>\n",
       "      <th>45</th>\n",
       "      <td>2020</td>\n",
       "      <td>25870.000000</td>\n",
       "    </tr>\n",
       "    <tr>\n",
       "      <th>46</th>\n",
       "      <td>2021</td>\n",
       "      <td>26960.000000</td>\n",
       "    </tr>\n",
       "    <tr>\n",
       "      <th>47</th>\n",
       "      <td>2022</td>\n",
       "      <td>29500.000000</td>\n",
       "    </tr>\n",
       "    <tr>\n",
       "      <th>48</th>\n",
       "      <td>2023</td>\n",
       "      <td>31770.000000</td>\n",
       "    </tr>\n",
       "  </tbody>\n",
       "</table>\n",
       "</div>"
      ],
      "text/plain": [
       "    Year  GDP(Million)\n",
       "0   1975    749.129000\n",
       "1   1976    790.357000\n",
       "2   1977    716.261765\n",
       "3   1978    766.642356\n",
       "4   1979    723.738503\n",
       "5   1980    744.384130\n",
       "6   1981    815.153652\n",
       "7   1982    865.516040\n",
       "8   1983    939.291262\n",
       "9   1984   1020.000000\n",
       "10  1985   1100.000000\n",
       "11  1986   1170.000000\n",
       "12  1987   1040.000000\n",
       "13  1988   1660.000000\n",
       "14  1989   1350.000000\n",
       "15  1990   1400.000000\n",
       "16  1991   2050.000000\n",
       "17  1992   2490.000000\n",
       "18  1993   2530.000000\n",
       "19  1994   2790.000000\n",
       "20  1995   3440.000000\n",
       "21  1996   3510.000000\n",
       "22  1997   3440.000000\n",
       "23  1998   3120.000000\n",
       "24  1999   3520.000000\n",
       "25  2000   3650.000000\n",
       "26  2001   3980.000000\n",
       "27  2002   4280.000000\n",
       "28  2003   4660.000000\n",
       "29  2004   5340.000000\n",
       "30  2005   6290.000000\n",
       "31  2006   7270.000000\n",
       "32  2007   8640.000000\n",
       "33  2008  10350.000000\n",
       "34  2009  10400.000000\n",
       "35  2010  11240.000000\n",
       "36  2011  12830.000000\n",
       "37  2012  14050.000000\n",
       "38  2013  15230.000000\n",
       "39  2014  16700.000000\n",
       "40  2015  18050.000000\n",
       "41  2016  20020.000000\n",
       "42  2017  22180.000000\n",
       "43  2018  24570.000000\n",
       "44  2019  27090.000000\n",
       "45  2020  25870.000000\n",
       "46  2021  26960.000000\n",
       "47  2022  29500.000000\n",
       "48  2023  31770.000000"
      ]
     },
     "execution_count": 21,
     "metadata": {},
     "output_type": "execute_result"
    }
   ],
   "source": [
    "import pandas as pd\n",
    "\n",
    "# Load the CSV file\n",
    "data = pd.read_excel('cambodia_gdp.xlsx', usecols='A, B')\n",
    "\n",
    "data = data.iloc[0:49]\n",
    "\n",
    "# Display the first few rows of data\n",
    "df = pd.DataFrame(data)\n",
    "df\n"
   ]
  },
  {
   "cell_type": "markdown",
   "metadata": {},
   "source": [
    "    3/Initial Insights into Data"
   ]
  },
  {
   "cell_type": "code",
   "execution_count": 6,
   "metadata": {},
   "outputs": [
    {
     "data": {
      "text/plain": [
       "Index(['Year', 'GDP(Million)'], dtype='object')"
      ]
     },
     "execution_count": 6,
     "metadata": {},
     "output_type": "execute_result"
    }
   ],
   "source": [
    "data.columns"
   ]
  },
  {
   "cell_type": "code",
   "execution_count": 7,
   "metadata": {},
   "outputs": [
    {
     "name": "stdout",
     "output_type": "stream",
     "text": [
      "Dataset Overview:\n",
      "   Year  GDP(Million)\n",
      "0  1975    749.129000\n",
      "1  1976    790.357000\n",
      "2  1977    716.261765\n",
      "3  1978    766.642356\n",
      "4  1979    723.738503\n",
      "\n",
      "Dataset Information:\n",
      "<class 'pandas.core.frame.DataFrame'>\n",
      "RangeIndex: 49 entries, 0 to 48\n",
      "Data columns (total 2 columns):\n",
      " #   Column        Non-Null Count  Dtype  \n",
      "---  ------        --------------  -----  \n",
      " 0   Year          49 non-null     int64  \n",
      " 1   GDP(Million)  49 non-null     float64\n",
      "dtypes: float64(1), int64(1)\n",
      "memory usage: 916.0 bytes\n",
      "None\n",
      "\n",
      "Summary Statistics:\n",
      "             Year  GDP(Million)\n",
      "count    49.00000     49.000000\n",
      "mean   1999.00000   8237.968851\n",
      "std      14.28869   9225.530572\n",
      "min    1975.00000    716.261765\n",
      "25%    1987.00000   1170.000000\n",
      "50%    1999.00000   3520.000000\n",
      "75%    2011.00000  12830.000000\n",
      "max    2023.00000  31770.000000\n"
     ]
    }
   ],
   "source": [
    "print(\"Dataset Overview:\")\n",
    "print(data.head())\n",
    "\n",
    "# Dataset info\n",
    "print(\"\\nDataset Information:\")\n",
    "print(data.info())\n",
    "\n",
    " #Summary statistics\n",
    "print(\"\\nSummary Statistics:\")\n",
    "print(data.describe())\n"
   ]
  },
  {
   "cell_type": "markdown",
   "metadata": {},
   "source": [
    "    4/Visualize Data: scatter plot"
   ]
  },
  {
   "cell_type": "code",
   "execution_count": 8,
   "metadata": {},
   "outputs": [
    {
     "data": {
      "image/png": "[encoded data removed]",
      "text/plain": [
       "<Figure size 640x480 with 1 Axes>"
      ]
     },
     "metadata": {},
     "output_type": "display_data"
    }
   ],
   "source": [
    "import matplotlib.pyplot as plt\n",
    "\n",
    "# Use the correct column names\n",
    "years_column = 'Year'\n",
    "gdp_column = 'GDP(Million)'\n",
    "\n",
    "# Create the scatter plot\n",
    "plt.scatter(data[years_column], data[gdp_column], color='blue')\n",
    "plt.title('Scatter Plot of Year vs. GDP(Million)')\n",
    "plt.xlabel('Year')\n",
    "plt.ylabel('GDP (Million)')\n",
    "plt.show()\n"
   ]
  },
  {
   "cell_type": "markdown",
   "metadata": {},
   "source": [
    "    Histogram: to understand its distribtions"
   ]
  },
  {
   "cell_type": "code",
   "execution_count": 13,
   "metadata": {},
   "outputs": [
    {
     "data": {
      "image/png": "[encoded data removed]",
      "text/plain": [
       "<Figure size 640x480 with 1 Axes>"
      ]
     },
     "metadata": {},
     "output_type": "display_data"
    }
   ],
   "source": [
    "sns.histplot(data=data[gdp_column], kde=True)\n",
    "plt.title(f'Histogram of GDP')\n",
    "plt.xlabel('gdp')\n",
    "plt.show()"
   ]
  },
  {
   "cell_type": "markdown",
   "metadata": {},
   "source": [
    "    boxplot to understand outlier"
   ]
  },
  {
   "cell_type": "code",
   "execution_count": 14,
   "metadata": {},
   "outputs": [
    {
     "data": {
      "image/png": "[encoded data removed]",
      "text/plain": [
       "<Figure size 640x480 with 1 Axes>"
      ]
     },
     "metadata": {},
     "output_type": "display_data"
    }
   ],
   "source": [
    "# import pandas as pd\n",
    "# import matplotlib.pyplot as plt\n",
    "sns.boxplot(data=data[gdp_column])\n",
    "plt.title(f'Boxplot of GDP')\n",
    "plt.show()"
   ]
  },
  {
   "cell_type": "markdown",
   "metadata": {},
   "source": [
    "    5/ data Preprocessing "
   ]
  },
  {
   "cell_type": "code",
   "execution_count": 125,
   "metadata": {},
   "outputs": [
    {
     "name": "stdout",
     "output_type": "stream",
     "text": [
      "Training Set Size: 34\n",
      "Testing Set Size: 15\n"
     ]
    }
   ],
   "source": [
    "# Independent variable (X) and dependent variable (y)\n",
    "X = data.iloc[:, :-1].values  #Year\n",
    "y = data.iloc[:, -1].values  #GDP\n",
    "\n",
    "# Split the dataset into training and testing sets\n",
    "X_train, X_test, y_train, y_test = train_test_split(X, y, test_size=0.3, random_state=0)\n",
    "print(f\"Training Set Size: {len(X_train)}\")\n",
    "print(f\"Testing Set Size: {len(X_test)}\")"
   ]
  },
  {
   "cell_type": "code",
   "execution_count": 126,
   "metadata": {},
   "outputs": [
    {
     "data": {
      "text/plain": [
       "array([ 5340.      ,   723.738503,  3980.      ,  6290.      ,\n",
       "        8640.      , 14050.      , 10400.      , 18050.      ,\n",
       "         865.51604 ,  1100.      ,  1170.      ,  7270.      ,\n",
       "       10350.      ,  4280.      , 31770.      ])"
      ]
     },
     "execution_count": 126,
     "metadata": {},
     "output_type": "execute_result"
    }
   ],
   "source": [
    "y_test"
   ]
  },
  {
   "cell_type": "code",
   "execution_count": 69,
   "metadata": {},
   "outputs": [
    {
     "data": {
      "text/plain": [
       "array([[1977],\n",
       "       [2021],\n",
       "       [1993],\n",
       "       [1990],\n",
       "       [2003],\n",
       "       [1997],\n",
       "       [1991],\n",
       "       [2016],\n",
       "       [1995],\n",
       "       [2017],\n",
       "       [1983],\n",
       "       [1988],\n",
       "       [2000],\n",
       "       [1980],\n",
       "       [1992],\n",
       "       [2010],\n",
       "       [1989],\n",
       "       [2013],\n",
       "       [1976],\n",
       "       [1987],\n",
       "       [2018],\n",
       "       [1999],\n",
       "       [1981],\n",
       "       [1998],\n",
       "       [2011],\n",
       "       [1996],\n",
       "       [1994],\n",
       "       [1984],\n",
       "       [2014],\n",
       "       [2020],\n",
       "       [1978],\n",
       "       [1975],\n",
       "       [2022],\n",
       "       [2019]])"
      ]
     },
     "execution_count": 69,
     "metadata": {},
     "output_type": "execute_result"
    }
   ],
   "source": [
    "a = pd.DataFrame(X_train)\n",
    "a\n",
    "X_train"
   ]
  },
  {
   "cell_type": "code",
   "execution_count": 135,
   "metadata": {},
   "outputs": [
    {
     "data": {
      "text/plain": [
       "[5340.0,\n",
       " 723.738503,\n",
       " 3980.0,\n",
       " 6290.0,\n",
       " 8640.0,\n",
       " 14050.0,\n",
       " 10400.0,\n",
       " 18050.0,\n",
       " 865.51604,\n",
       " 1100.0,\n",
       " 1170.0,\n",
       " 7270.0,\n",
       " 10350.0,\n",
       " 4280.0,\n",
       " 31770.0]"
      ]
     },
     "execution_count": 135,
     "metadata": {},
     "output_type": "execute_result"
    }
   ],
   "source": [
    "b = pd.DataFrame(y_train)\n",
    "b\n",
    "y_train\n",
    "y_test"
   ]
  },
  {
   "cell_type": "code",
   "execution_count": 127,
   "metadata": {},
   "outputs": [
    {
     "data": {
      "text/plain": [
       "array([[2004],\n",
       "       [1979],\n",
       "       [2001],\n",
       "       [2005],\n",
       "       [2007],\n",
       "       [2012],\n",
       "       [2009],\n",
       "       [2015],\n",
       "       [1982],\n",
       "       [1985],\n",
       "       [1986],\n",
       "       [2006],\n",
       "       [2008],\n",
       "       [2002],\n",
       "       [2023]])"
      ]
     },
     "execution_count": 127,
     "metadata": {},
     "output_type": "execute_result"
    }
   ],
   "source": [
    "X_test"
   ]
  },
  {
   "cell_type": "markdown",
   "metadata": {},
   "source": [
    "    6/Find Model training "
   ]
  },
  {
   "cell_type": "code",
   "execution_count": 141,
   "metadata": {},
   "outputs": [
    {
     "name": "stdout",
     "output_type": "stream",
     "text": [
      "Fitted parameters: a = 585.1835947288135, b = 0.08488766814997321\n"
     ]
    }
   ],
   "source": [
    "import numpy as np\n",
    "from scipy.optimize import curve_fit\n",
    "\n",
    "# Training data (year and GDP)\n",
    "X_train_values = np.array([\n",
    "    1977, 2021, 1993, 1990, 2003, 1997, 1991, 2016, 1995, 2017,\n",
    "    1983, 1988, 2000, 1980, 1992, 2010, 1989, 2013, 1976, 1987,\n",
    "    2018, 1999, 1981, 1998, 2011, 1996, 1994, 1984, 2014, 2020,\n",
    "    1978, 1975, 2022, 2019\n",
    "])\n",
    "y_train_values = np.array([\n",
    "    716.261765, 26960., 2530., 1400., 4660., 3440., 2050.,\n",
    "    20020., 3440., 22180., 939.291262, 1660., 3650., \n",
    "    744.38413, 2490., 11240., 1350., 15230., \n",
    "    790.357, 1040., 24570., 3520., \n",
    "    815.153652, 3120., 12830., 3510., \n",
    "    2790., 1020., 16700., 25870.,\n",
    "    766.642356, 749.129, \n",
    "    29500., 27090.\n",
    "])\n",
    "\n",
    "# Define the exponential function\n",
    "def exponential_function(x, a, b):\n",
    "    return a * np.exp(b * (x - 1975)) # Adjusting x for better fitting\n",
    "\n",
    "# Initial guesses for parameters\n",
    "initial_a = y_train_values.min()   # A reasonable guess for a\n",
    "initial_b = 0                    # A small positive number for b\n",
    "\n",
    "# Fit the curve\n",
    "params, covariance = curve_fit(exponential_function, X_train_values, y_train_values, p0=[initial_a, initial_b])\n",
    "\n",
    "# Extract the parameters\n",
    "a, b = params\n",
    "print(f\"Fitted parameters: a = {a}, b = {b}\")\n",
    "\n"
   ]
  },
  {
   "cell_type": "markdown",
   "metadata": {},
   "source": [
    "    7/Visaulize result-Training Set "
   ]
  },
  {
   "cell_type": "code",
   "execution_count": 142,
   "metadata": {},
   "outputs": [
    {
     "name": "stdout",
     "output_type": "stream",
     "text": [
      "Year: 1975,Predicted GDP: 585.1835947288135\n",
      "Year: 1976,Predicted GDP: 637.0278042021134\n",
      "Year: 1977,Predicted GDP: 693.4651397987744\n",
      "Year: 1978,Predicted GDP: 754.9025284986744\n",
      "Year: 1979,Predicted GDP: 821.7829488863069\n",
      "Year: 1980,Predicted GDP: 894.588625134616\n",
      "Year: 1981,Predicted GDP: 973.8445039591129\n",
      "Year: 1982,Predicted GDP: 1060.1220396119627\n",
      "Year: 1983,Predicted GDP: 1154.0433142067754\n",
      "Year: 1984,Predicted GDP: 1256.2855230826478\n",
      "Year: 1985,Predicted GDP: 1367.5858575480288\n",
      "Year: 1986,Predicted GDP: 1488.746820210182\n",
      "Year: 1987,Predicted GDP: 1620.6420112150731\n",
      "Year: 1988,Predicted GDP: 1764.2224271178827\n",
      "Year: 1989,Predicted GDP: 1920.5233178005406\n",
      "Year: 1990,Predicted GDP: 2090.671650876333\n",
      "Year: 1991,Predicted GDP: 2275.8942374017674\n",
      "Year: 1992,Predicted GDP: 2477.526577484051\n",
      "Year: 1993,Predicted GDP: 2697.0224895631904\n",
      "Year: 1994,Predicted GDP: 2935.9645927981805\n",
      "Year: 1995,Predicted GDP: 3196.075718137843\n",
      "Year: 1996,Predicted GDP: 3479.2313303529345\n",
      "Year: 1997,Predicted GDP: 3787.4730505954103\n",
      "Year: 1998,Predicted GDP: 4123.023376985785\n",
      "Year: 1999,Predicted GDP: 4488.301709367644\n",
      "Year: 2000,Predicted GDP: 4885.941793771687\n",
      "Year: 2001,Predicted GDP: 5318.810712368145\n",
      "Year: 2002,Predicted GDP: 5790.0295558298\n",
      "Year: 2003,Predicted GDP: 6302.995927158353\n",
      "Year: 2004,Predicted GDP: 6861.408439232253\n",
      "Year: 2005,Predicted GDP: 7469.293382709308\n",
      "Year: 2006,Predicted GDP: 8131.033756566113\n",
      "Year: 2007,Predicted GDP: 8851.400870591651\n",
      "Year: 2008,Predicted GDP: 9635.588747696722\n",
      "Year: 2009,Predicted GDP: 10489.251574088263\n",
      "Year: 2010,Predicted GDP: 11418.544467333473\n",
      "Year: 2011,Predicted GDP: 12430.167856261458\n",
      "Year: 2012,Predicted GDP: 13531.415792692318\n",
      "Year: 2013,Predicted GDP: 14730.22854333301\n",
      "Year: 2014,Predicted GDP: 16035.249841040513\n",
      "Year: 2015,Predicted GDP: 17455.889208247758\n",
      "Year: 2016,Predicted GDP: 19002.389801919566\n",
      "Year: 2017,Predicted GDP: 20685.902269217215\n",
      "Year: 2018,Predicted GDP: 22518.565146389115\n",
      "Year: 2019,Predicted GDP: 24513.59238058315\n",
      "Year: 2020,Predicted GDP: 26685.36860563436\n",
      "Year: 2021,Predicted GDP: 29049.552858789757\n",
      "Year: 2022,Predicted GDP: 31623.191486193056\n"
     ]
    },
    {
     "data": {
      "image/png": "[encoded data removed]",
      "text/plain": [
       "<Figure size 640x480 with 1 Axes>"
      ]
     },
     "metadata": {},
     "output_type": "display_data"
    }
   ],
   "source": [
    "# Create a range of years for prediction\n",
    "years = np.arange(1975, 2023) # From the start year to the end year\n",
    "\n",
    "# Calculate model values using the fitted parameters\n",
    "model_values = exponential_function(years, a, b)\n",
    "\n",
    "# Print all model values\n",
    "for year, value in zip(years, model_values):\n",
    "    print(f\"Year: {year},Predicted GDP: {value}\")\n",
    "\n",
    "# Optional: Plot the original data and the fitted model\n",
    "plt.scatter(X_train_values, y_train_values, label='Observed Data', color='red')\n",
    "plt.plot(years, model_values, label='Fitted Model', color='blue')\n",
    "plt.xlabel('Year')\n",
    "plt.ylabel('GDP')\n",
    "plt.title('Exponential Fit to GDP Data')\n",
    "plt.legend()\n",
    "plt.show()"
   ]
  },
  {
   "cell_type": "markdown",
   "metadata": {},
   "source": [
    "    8/Prediction on Teasted Data"
   ]
  },
  {
   "cell_type": "code",
   "execution_count": 155,
   "metadata": {},
   "outputs": [
    {
     "name": "stdout",
     "output_type": "stream",
     "text": [
      "\n",
      "Comparison of Actual vs Predicted Salaries:\n",
      "          Actual     Predicted\n",
      "0    5340.000000   6861.408439\n",
      "1     723.738503    821.782949\n",
      "2    3980.000000   5318.810712\n",
      "3    6290.000000   7469.293383\n",
      "4    8640.000000   8851.400871\n",
      "5   14050.000000  13531.415793\n",
      "6   10400.000000  10489.251574\n",
      "7   18050.000000  17455.889208\n",
      "8     865.516040   1060.122040\n",
      "9    1100.000000   1367.585858\n",
      "10   1170.000000   1488.746820\n",
      "11   7270.000000   8131.033757\n",
      "12  10350.000000   9635.588748\n",
      "13   4280.000000   5790.029556\n",
      "14  31770.000000  34424.841051\n"
     ]
    }
   ],
   "source": [
    "def exponential_function(x, a, b):\n",
    "    return a * np.exp(b * (x - 1975))\n",
    "\n",
    "# Assuming you have your data\n",
    "X_train = np.array([1977, 2021, 1993, 1990, 2003, 1997, 1991, 2016, 1995, 2017,\n",
    "    1983, 1988, 2000, 1980, 1992, 2010, 1989, 2013, 1976, 1987,\n",
    "    2018, 1999, 1981, 1998, 2011, 1996, 1994, 1984, 2014, 2020,\n",
    "    1978, 1975, 2022, 2019])\n",
    "X_test = np.array([2004, 1979, 2001, 2005, 2007, \n",
    "                   2012, 2009, 2015, 1982, \n",
    "                   1985, 1986, 2006, \n",
    "                   2008, 2002, 2023])\n",
    "y_test = np.array([5340.0,\n",
    " 723.738503,\n",
    " 3980.0,\n",
    " 6290.0,\n",
    " 8640.0,\n",
    " 14050.0,\n",
    " 10400.0,\n",
    " 18050.0,\n",
    " 865.51604,\n",
    " 1100.0,\n",
    " 1170.0,\n",
    " 7270.0,\n",
    " 10350.0,\n",
    " 4280.0,\n",
    " 31770.0])\n",
    "a, b = params\n",
    "\n",
    "# Predict values\n",
    "y_pred = exponential_function(X_test, a, b)\n",
    "\n",
    "# Ensure y_pred is the same shape as y_test\n",
    "if y_pred.shape != y_test.shape:\n",
    "    y_pred = y_pred.reshape(y_test.shape)\n",
    "\n",
    "# Compare actual vs. predicted\n",
    "comparison = pd.DataFrame({'Actual': y_test.flatten(), 'Predicted': y_pred.flatten()})\n",
    "\n",
    "print(\"\\nComparison of Actual vs Predicted Salaries:\")\n",
    "print(comparison)\n"
   ]
  },
  {
   "cell_type": "markdown",
   "metadata": {},
   "source": [
    "    9/Visaulize Data-Test set"
   ]
  },
  {
   "cell_type": "code",
   "execution_count": 153,
   "metadata": {},
   "outputs": [
    {
     "data": {
      "image/png": "[encoded data removed]",
      "text/plain": [
       "<Figure size 640x480 with 1 Axes>"
      ]
     },
     "metadata": {},
     "output_type": "display_data"
    }
   ],
   "source": [
    "# Create a range of years for prediction\n",
    "years = np.arange(1975, 2023) # From the start year to the end year\n",
    "\n",
    "# Calculate model values using the fitted parameters\n",
    "model_tested = exponential_function(years, a, b)\n",
    "plt.scatter(X_test, y_test, label='Observed tested Data', color='red')\n",
    "plt.plot(years, model_tested, label='Fitted tested Model', color='blue')\n",
    "plt.xlabel('Year')\n",
    "plt.ylabel('GDP')\n",
    "plt.title('Exponential Fit to GDP Data')\n",
    "plt.legend()\n",
    "plt.grid()\n",
    "plt.show()"
   ]
  },
  {
   "cell_type": "markdown",
   "metadata": {},
   "source": [
    "    10/Model Fitting"
   ]
  },
  {
   "cell_type": "code",
   "execution_count": 154,
   "metadata": {},
   "outputs": [
    {
     "name": "stdout",
     "output_type": "stream",
     "text": [
      "mean_absolute_error: 1131546.85\n",
      "mean_absolute_error: 804.81\n",
      "R² Score:0.9821658414529426\n"
     ]
    }
   ],
   "source": [
    "# compute mean square error\n",
    "mse = mean_squared_error(y_test,y_pred)\n",
    "print(f'mean_absolute_error: {mse:.2f}')\n",
    "# compute mean asolute error\n",
    "mae = mean_absolute_error(y_test,y_pred)\n",
    "print(f'mean_absolute_error: {mae:.2f}')\n",
    "## Compute R² Score\n",
    "r_2 = r2_score(y_test,y_pred)\n",
    "print(f'R² Score:{r_2}')"
   ]
  }
 ],
 "metadata": {
  "kernelspec": {
   "display_name": "Python 3",
   "language": "python",
   "name": "python3"
  },
  "language_info": {
   "codemirror_mode": {
    "name": "ipython",
    "version": 3
   },
   "file_extension": ".py",
   "mimetype": "text/x-python",
   "name": "python",
   "nbconvert_exporter": "python",
   "pygments_lexer": "ipython3",
   "version": "3.13.0"
  }
 },
 "nbformat": 4,
 "nbformat_minor": 2
}
